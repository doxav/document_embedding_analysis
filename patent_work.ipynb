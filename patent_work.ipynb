{
 "cells": [
  {
   "cell_type": "code",
   "execution_count": 2,
   "metadata": {
    "collapsed": true
   },
   "outputs": [
    {
     "name": "stderr",
     "output_type": "stream",
     "text": [
      "/opt/miniconda3/envs/doc_embedding/lib/python3.10/site-packages/langchain_core/_api/deprecation.py:119: LangChainDeprecationWarning: The class `ChatOpenAI` was deprecated in LangChain 0.0.10 and will be removed in 0.2.0. An updated version of the class exists in the langchain-openai package and should be used instead. To use it run `pip install -U langchain-openai` and import as `from langchain_openai import ChatOpenAI`.\n",
      "  warn_deprecated(\n"
     ]
    },
    {
     "name": "stdout",
     "output_type": "stream",
     "text": [
      "{'long_list': [0, 1, 2, 3, 4, '...'],\n",
      " 'long_string': 'aaaaaaaaaaaaaaaaaaaaaaaaaaaaaaaaaaaaaaaaaaaaaaaaaaaaaaaaaaaaaaaaaaaaaaaaaaaaaaaaaaaaaaaaaaaaaaaaaaaa',\n",
      " 'nested': {'nested_list': [0, 1, 2, 3, 4, '...'],\n",
      "            'nested_string': 'bbbbbbbbbbbbbbbbbbbbbbbbbbbbbbbbbbbbbbbbbbbbbbbbbb'}}\n"
     ]
    }
   ],
   "source": [
    "import asyncio\n",
    "import os\n",
    "import re\n",
    "import json\n",
    "from copy import copy, deepcopy\n",
    "from pathlib import Path\n",
    "from pprint import pprint, PrettyPrinter\n",
    "from time import time, sleep\n",
    "from typing import List, Dict\n",
    "from uuid import uuid4\n",
    "from collections import defaultdict\n",
    "\n",
    "import evaluate\n",
    "import openai\n",
    "import requests\n",
    "import tiktoken\n",
    "from bs4 import BeautifulSoup, Comment\n",
    "from doctran import Doctran, ExtractProperty\n",
    "from dotenv import load_dotenv, find_dotenv\n",
    "from evaluate import load\n",
    "from langchain.chat_models import ChatOpenAI\n",
    "from langchain.docstore.document import Document\n",
    "from langchain.document_loaders import WebBaseLoader\n",
    "from langchain.embeddings import (\n",
    "    OpenAIEmbeddings,\n",
    "    HuggingFaceEmbeddings,\n",
    ")\n",
    "from langchain.llms import OpenAI\n",
    "from langchain.text_splitter import (\n",
    "    MarkdownTextSplitter,\n",
    "    MarkdownHeaderTextSplitter,\n",
    "    LineType,\n",
    "    RecursiveCharacterTextSplitter,\n",
    ")\n",
    "from loguru import logger\n",
    "from sentence_transformers import SentenceTransformer\n",
    "from sklearn.metrics.pairwise import cosine_similarity\n",
    "import numpy as np\n",
    "\n",
    "from main_ import (\n",
    "    extract_plan_and_content_wikipedia,\n",
    "    compare_documents_content,\n",
    "    compare_documents_sections,\n",
    "    extract_plan_and_content_patent,\n",
    ")\n",
    "\n",
    "_ = load_dotenv(find_dotenv())\n",
    "openai.api_key = os.getenv('OPENAI_API_KEY')\n",
    "\n",
    "llm_default = ChatOpenAI(model_name=\"gpt-4o-mini\", streaming=True)\n",
    "llm_16k = ChatOpenAI(model_name=\"gpt-4o-mini\", streaming=True)\n",
    "\n",
    "def num_tokens_from_string(string: str, encoding_name: str = \"gpt-4o-mini\") -> int:\n",
    "    \"\"\"Returns the number of tokens in a text string.\"\"\"\n",
    "    try:\n",
    "        encoding = tiktoken.get_encoding(encoding_name)\n",
    "    except ValueError:\n",
    "        encoding = tiktoken.encoding_for_model(encoding_name)\n",
    "    num_tokens = len(encoding.encode(string))\n",
    "    return num_tokens\n",
    "\n",
    "def convert_to_markdown(article_dict):\n",
    "    md_text = \"\"\n",
    "\n",
    "    for heading, content in article_dict.items():\n",
    "        # heading is of form: 'h3 Example'\n",
    "        # Define the markdown equivalent for the heading level\n",
    "        heading_level = \"#\" * int(heading[1])\n",
    "        heading = heading[3:]\n",
    "        # Append the heading and the content to the markdown text\n",
    "        md_text += f\"{heading_level} {heading}\\n\\n{content}\\n\\n\"\n",
    "\n",
    "    return md_text\n",
    "\n",
    "\n",
    "def truncated_pprint(obj, N=5):\n",
    "    \"\"\"Pretty print an object, truncating lists and strings to N items/characters\n",
    "    for easier viewing of plan_json objects\"\"\"\n",
    "    def truncate(item, N):\n",
    "        if isinstance(item, list) and N is not None:\n",
    "            return item[:N] + (['...'] if len(item) > N else [])\n",
    "        if isinstance(item, str) and N is not None:\n",
    "            N = 125\n",
    "            return item[:N] + ('...' if len(item) > N else '')\n",
    "        return item\n",
    "\n",
    "    def trunc_recursive(item, N):\n",
    "        if isinstance(item, list):\n",
    "            return [trunc_recursive(i, N) for i in truncate(item, N)]\n",
    "        elif isinstance(item, dict):\n",
    "            return {k: trunc_recursive(v, N) for k, v in item.items()}\n",
    "        else:\n",
    "            return truncate(item, N)\n",
    "\n",
    "    truncated_obj = trunc_recursive(obj, N)\n",
    "    pprint(truncated_obj, sort_dicts=False)\n",
    "\n",
    "# Test\n",
    "data = {\n",
    "    'long_list': list(range(100)),\n",
    "    'long_string': 'a' * 100,\n",
    "    'nested': {\n",
    "        'nested_list': list(range(50)),\n",
    "        'nested_string': 'b' * 50\n",
    "    }\n",
    "}\n",
    "\n",
    "truncated_pprint(data, 5)\n"
   ]
  },
  {
   "cell_type": "code",
   "execution_count": 3,
   "metadata": {
    "collapsed": false
   },
   "outputs": [
    {
     "name": "stderr",
     "output_type": "stream",
     "text": [
      "\u001b[32m2025-01-02 11:04:12.242\u001b[0m | \u001b[1mINFO    \u001b[0m | \u001b[36mmain_\u001b[0m:\u001b[36mextract_plan_and_content\u001b[0m:\u001b[36m1092\u001b[0m - \u001b[1m\n",
      "\tExtracting plan and content for: data/patents/CONDOM FOR ORAL-GENITAL USE.txt\u001b[0m\n",
      "\u001b[32m2025-01-02 11:04:12.242\u001b[0m | \u001b[1mINFO    \u001b[0m | \u001b[36mmain_\u001b[0m:\u001b[36mload_patent_file\u001b[0m:\u001b[36m186\u001b[0m - \u001b[1mLoading patent file: data/patents/CONDOM FOR ORAL-GENITAL USE.txt\u001b[0m\n",
      "\u001b[32m2025-01-02 11:04:12.243\u001b[0m | \u001b[1mINFO    \u001b[0m | \u001b[36mmain_\u001b[0m:\u001b[36mload_patent_file\u001b[0m:\u001b[36m213\u001b[0m - \u001b[1mExtracted 4 sections from patent file named: ['title', 'descr', 'claim_1', 'pdfep']\u001b[0m\n",
      "\u001b[32m2025-01-02 11:04:12.244\u001b[0m | \u001b[1mINFO    \u001b[0m | \u001b[36mmain_\u001b[0m:\u001b[36mdivide_sections_if_too_large\u001b[0m:\u001b[36m336\u001b[0m - \u001b[1mDividing sections if too large in plan and section content.\u001b[0m\n",
      "\u001b[32m2025-01-02 11:04:12.426\u001b[0m | \u001b[1mINFO    \u001b[0m | \u001b[36mmain_\u001b[0m:\u001b[36mdivide_sections_if_too_large\u001b[0m:\u001b[36m353\u001b[0m - \u001b[1mContent character length: 20525 tokens: 4684 for 'descr'\u001b[0m\n",
      "\u001b[32m2025-01-02 11:04:13.200\u001b[0m | \u001b[1mINFO    \u001b[0m | \u001b[36mmain_\u001b[0m:\u001b[36mdivide_sections_if_too_large\u001b[0m:\u001b[36m393\u001b[0m - \u001b[1mAdded 'Background of the Invention' split original heading 'descr'\u001b[0m\n",
      "\u001b[32m2025-01-02 11:04:13.826\u001b[0m | \u001b[1mINFO    \u001b[0m | \u001b[36mmain_\u001b[0m:\u001b[36mdivide_sections_if_too_large\u001b[0m:\u001b[36m393\u001b[0m - \u001b[1mAdded 'Unique Solution to Oral Sex Safety' split original heading 'descr'\u001b[0m\n",
      "\u001b[32m2025-01-02 11:04:14.427\u001b[0m | \u001b[1mINFO    \u001b[0m | \u001b[36mmain_\u001b[0m:\u001b[36mdivide_sections_if_too_large\u001b[0m:\u001b[36m393\u001b[0m - \u001b[1mAdded 'Condom for Oral Sex' split original heading 'descr'\u001b[0m\n",
      "\u001b[32m2025-01-02 11:04:15.030\u001b[0m | \u001b[1mINFO    \u001b[0m | \u001b[36mmain_\u001b[0m:\u001b[36mdivide_sections_if_too_large\u001b[0m:\u001b[36m393\u001b[0m - \u001b[1mAdded 'Innovative Condom Design for Oral Sex' split original heading 'descr'\u001b[0m\n",
      "\u001b[32m2025-01-02 11:04:15.617\u001b[0m | \u001b[1mINFO    \u001b[0m | \u001b[36mmain_\u001b[0m:\u001b[36mdivide_sections_if_too_large\u001b[0m:\u001b[36m393\u001b[0m - \u001b[1mAdded 'Condom for Oral-Genital Use' split original heading 'descr'\u001b[0m\n",
      "\u001b[32m2025-01-02 11:04:16.422\u001b[0m | \u001b[1mINFO    \u001b[0m | \u001b[36mmain_\u001b[0m:\u001b[36mdivide_sections_if_too_large\u001b[0m:\u001b[36m393\u001b[0m - \u001b[1mAdded 'Description of the Preferred Embodiments' split original heading 'descr'\u001b[0m\n",
      "\u001b[32m2025-01-02 11:04:17.100\u001b[0m | \u001b[1mINFO    \u001b[0m | \u001b[36mmain_\u001b[0m:\u001b[36mdivide_sections_if_too_large\u001b[0m:\u001b[36m393\u001b[0m - \u001b[1mAdded 'Condom Design with Flanges and O-Rings' split original heading 'descr'\u001b[0m\n",
      "\u001b[32m2025-01-02 11:04:17.635\u001b[0m | \u001b[1mINFO    \u001b[0m | \u001b[36mmain_\u001b[0m:\u001b[36mdivide_sections_if_too_large\u001b[0m:\u001b[36m393\u001b[0m - \u001b[1mAdded 'O-Rings and Condom Design' split original heading 'descr'\u001b[0m\n",
      "\u001b[32m2025-01-02 11:04:18.830\u001b[0m | \u001b[1mINFO    \u001b[0m | \u001b[36mmain_\u001b[0m:\u001b[36mdivide_sections_if_too_large\u001b[0m:\u001b[36m393\u001b[0m - \u001b[1mAdded 'Condom Design for Oral Sex' split original heading 'descr'\u001b[0m\n",
      "\u001b[32m2025-01-02 11:04:19.603\u001b[0m | \u001b[1mINFO    \u001b[0m | \u001b[36mmain_\u001b[0m:\u001b[36mdivide_sections_if_too_large\u001b[0m:\u001b[36m393\u001b[0m - \u001b[1mAdded 'Condom Design for Cunnilingus' split original heading 'descr'\u001b[0m\n",
      "\u001b[32m2025-01-02 11:04:20.198\u001b[0m | \u001b[1mINFO    \u001b[0m | \u001b[36mmain_\u001b[0m:\u001b[36mdivide_sections_if_too_large\u001b[0m:\u001b[36m393\u001b[0m - \u001b[1mAdded 'Condom Design for Oral Sex' split original heading 'descr'\u001b[0m\n",
      "\u001b[32m2025-01-02 11:04:20.200\u001b[0m | \u001b[1mINFO    \u001b[0m | \u001b[36mmain_\u001b[0m:\u001b[36mdivide_sections_if_too_large\u001b[0m:\u001b[36m353\u001b[0m - \u001b[1mContent character length: 3567 tokens: 904 for 'claim_1'\u001b[0m\n",
      "\u001b[32m2025-01-02 11:04:20.923\u001b[0m | \u001b[1mINFO    \u001b[0m | \u001b[36mmain_\u001b[0m:\u001b[36mdivide_sections_if_too_large\u001b[0m:\u001b[36m393\u001b[0m - \u001b[1mAdded 'EP 0600858 B1 Condom Claims' split original heading 'claim_1'\u001b[0m\n",
      "\u001b[32m2025-01-02 11:04:21.480\u001b[0m | \u001b[1mINFO    \u001b[0m | \u001b[36mmain_\u001b[0m:\u001b[36mdivide_sections_if_too_large\u001b[0m:\u001b[36m393\u001b[0m - \u001b[1mAdded 'Condom Claims Description' split original heading 'claim_1'\u001b[0m\n",
      "\u001b[32m2025-01-02 11:04:21.481\u001b[0m | \u001b[1mINFO    \u001b[0m | \u001b[36mmain_\u001b[0m:\u001b[36mdivide_sections_if_too_large\u001b[0m:\u001b[36m399\u001b[0m - \u001b[1m\n",
      "\tFinished dividing sections if too large in plan and section content.\n",
      "\tStarted with 4 sections and got 14 final sections.\n",
      "\tThat's a 3.50x increase in sections\u001b[0m\n",
      "\u001b[32m2025-01-02 11:04:21.482\u001b[0m | \u001b[1mINFO    \u001b[0m | \u001b[36mmain_\u001b[0m:\u001b[36mgenerate_embeddings_plan_and_section_content\u001b[0m:\u001b[36m558\u001b[0m - \u001b[1mCreating plan json\u001b[0m\n",
      "\u001b[32m2025-01-02 11:04:21.483\u001b[0m | \u001b[1mINFO    \u001b[0m | \u001b[36mmain_\u001b[0m:\u001b[36mgenerate_embeddings_plan_and_section_content\u001b[0m:\u001b[36m606\u001b[0m - \u001b[1mTitle: CONDOM FOR ORAL-GENITAL USE\u001b[0m\n",
      "\u001b[32m2025-01-02 11:04:21.483\u001b[0m | \u001b[1mINFO    \u001b[0m | \u001b[36mmain_\u001b[0m:\u001b[36mgenerate_embeddings_plan_and_section_content\u001b[0m:\u001b[36m607\u001b[0m - \u001b[1mAbstract: EP\t0600858\tB1\t2000-05-17\ten\tDESCR\t1\t<heading id=\"h0001\"><u><b>Background of the Invention</b></u></heading><p id=\"p0001\" num=\"0001\">In recent years, the appearance of the HIV virus and the impending Acquired Immune Deficiency Syndrome epidemic have created an atmosphere of fear, caution and prudence in which sexually active adults must consider protecting themselves from infection by HIV virus as well as other venereal diseases. It is generally accepted as fact that the condom provides the best protection from venereal disease and HIV virus, aside from complete sexual abstinence. Unfortunately, such a positive barrier device is, at present, the only sure or certain way to prevent transmission of all STD's, many of which cause great personal suffering and, in the cases of AIDS and syphilis, death.</p><p id=\"p0002\" num=\"0002\">Condoms are generally designed to be applied to the male member, although recent adaptations have been introduced which permit their use by women in the form a liner for the vaginal canal. Such a condom is disclosed in US-A-4805604. However, a significant form of sexual activity, namely oral-genital sexual contact, has not been well served by the forms of condoms known in the prior art. Although many individuals do not openly discuss or acknowledge participating in such practices, many surveys have shown that oral-genital sex is highly desired and engaged in frequently. Commercially available condoms are not designed to facilitate or accommodate oral-genital sex. Moreover, the oral cavity, together with the lips and surrounding skin, provides many opportunities for disease transmission. Brushing and flossing of teeth, biting the cheek or tongue accidentally, or STD lesions in the mouth and throat areas all create breaks in the skin and mucosa that provide direct vectors to the blood. The present invention is directed toward a condom-like prophylactic that protects the oral cavity during oral sexual activity, so that disease transmission is blocked. It also protects the genitals, thus avoiding transmission in either direction\u001b[0m\n",
      "\u001b[32m2025-01-02 11:04:29.911\u001b[0m | \u001b[1mINFO    \u001b[0m | \u001b[36mmain_\u001b[0m:\u001b[36m_gen_embed_section_content_batch\u001b[0m:\u001b[36m493\u001b[0m - \u001b[1m1/12 - created section + content embeddings for Unique Solution to Oral Sex Safety - SECTION: Unique Solution to Oral Sex Safety... CONTENT: . This is a unique solution to a very serious prob...\u001b[0m\n",
      "\u001b[32m2025-01-02 11:04:29.912\u001b[0m | \u001b[1mINFO    \u001b[0m | \u001b[36mmain_\u001b[0m:\u001b[36m_gen_embed_section_content_batch\u001b[0m:\u001b[36m493\u001b[0m - \u001b[1m2/12 - created section + content embeddings for Condom for Oral Sex - SECTION: Condom for Oral Sex... CONTENT: . These \"aesthetically fastidious\" individuals may...\u001b[0m\n",
      "\u001b[32m2025-01-02 11:04:29.912\u001b[0m | \u001b[1mINFO    \u001b[0m | \u001b[36mmain_\u001b[0m:\u001b[36m_gen_embed_section_content_batch\u001b[0m:\u001b[36m493\u001b[0m - \u001b[1m3/12 - created section + content embeddings for Innovative Condom Design for Oral Sex - SECTION: Innovative Condom Design for Oral Sex... CONTENT: . A penis may be inserted into the tubular member ...\u001b[0m\n",
      "\u001b[32m2025-01-02 11:04:29.913\u001b[0m | \u001b[1mINFO    \u001b[0m | \u001b[36mmain_\u001b[0m:\u001b[36m_gen_embed_section_content_batch\u001b[0m:\u001b[36m493\u001b[0m - \u001b[1m4/12 - created section + content embeddings for Condom for Oral-Genital Use - SECTION: Condom for Oral-Genital Use... CONTENT: . In addition, the pliant material that forms the ...\u001b[0m\n",
      "\u001b[32m2025-01-02 11:04:29.913\u001b[0m | \u001b[1mINFO    \u001b[0m | \u001b[36mmain_\u001b[0m:\u001b[36m_gen_embed_section_content_batch\u001b[0m:\u001b[36m493\u001b[0m - \u001b[1m5/12 - created section + content embeddings for Description of the Preferred Embodiments - SECTION: Description of the Preferred Embodiments... CONTENT: .</li><li>Figure 15 is a cross-sectional view as i...\u001b[0m\n",
      "\u001b[32m2025-01-02 11:04:29.914\u001b[0m | \u001b[1mINFO    \u001b[0m | \u001b[36mmain_\u001b[0m:\u001b[36m_gen_embed_section_content_batch\u001b[0m:\u001b[36m493\u001b[0m - \u001b[1m6/12 - created section + content embeddings for Condom Design with Flanges and O-Rings - SECTION: Condom Design with Flanges and O-Rings... CONTENT: . With reference to Figures 1-5, one embodiment of...\u001b[0m\n",
      "\u001b[32m2025-01-02 11:04:29.915\u001b[0m | \u001b[1mINFO    \u001b[0m | \u001b[36mmain_\u001b[0m:\u001b[36m_gen_embed_section_content_batch\u001b[0m:\u001b[36m493\u001b[0m - \u001b[1m7/12 - created section + content embeddings for O-Rings and Condom Design - SECTION: O-Rings and Condom Design... CONTENT: . The O-Rings serve the same purposes as the rims ...\u001b[0m\n",
      "\u001b[32m2025-01-02 11:04:29.915\u001b[0m | \u001b[1mINFO    \u001b[0m | \u001b[36mmain_\u001b[0m:\u001b[36m_gen_embed_section_content_batch\u001b[0m:\u001b[36m493\u001b[0m - \u001b[1m8/12 - created section + content embeddings for Condom Design for Oral Sex - SECTION: Condom Design for Oral Sex... CONTENT: . As noted with regard to Figures 1-3, the condom ...\u001b[0m\n",
      "\u001b[32m2025-01-02 11:04:29.916\u001b[0m | \u001b[1mINFO    \u001b[0m | \u001b[36mmain_\u001b[0m:\u001b[36m_gen_embed_section_content_batch\u001b[0m:\u001b[36m493\u001b[0m - \u001b[1m9/12 - created section + content embeddings for Condom Design for Cunnilingus - SECTION: Condom Design for Cunnilingus... CONTENT: . The condom 61 permits the user to perform cunnil...\u001b[0m\n",
      "\u001b[32m2025-01-02 11:04:29.916\u001b[0m | \u001b[1mINFO    \u001b[0m | \u001b[36mmain_\u001b[0m:\u001b[36m_gen_embed_section_content_batch\u001b[0m:\u001b[36m493\u001b[0m - \u001b[1m10/12 - created section + content embeddings for EP 0600858 B1 Condom Claims - SECTION: EP 0600858 B1 Condom Claims... CONTENT: EP\t0600858\tB1\t2000-05-17\ten\tCLAIM\t1\t<claim id=\"c-e...\u001b[0m\n",
      "\u001b[32m2025-01-02 11:04:29.917\u001b[0m | \u001b[1mINFO    \u001b[0m | \u001b[36mmain_\u001b[0m:\u001b[36m_gen_embed_section_content_batch\u001b[0m:\u001b[36m493\u001b[0m - \u001b[1m11/12 - created section + content embeddings for Condom Claims Description - SECTION: Condom Claims Description... CONTENT: .</claim-text></claim><claim id=\"c-en-01-0005\" num...\u001b[0m\n",
      "\u001b[32m2025-01-02 11:04:29.917\u001b[0m | \u001b[1mINFO    \u001b[0m | \u001b[36mmain_\u001b[0m:\u001b[36m_gen_embed_section_content_batch\u001b[0m:\u001b[36m493\u001b[0m - \u001b[1m12/12 - created section + content embeddings for pdfep - SECTION: pdfep... CONTENT: EP\t0600858\tB1\t2000-05-17\ten\tPDFEP\t1\thttps://data.e...\u001b[0m\n",
      "\u001b[32m2025-01-02 11:04:29.918\u001b[0m | \u001b[1mINFO    \u001b[0m | \u001b[36mmain_\u001b[0m:\u001b[36m_gen_embed_plan\u001b[0m:\u001b[36m523\u001b[0m - \u001b[1mCreated plan embedding 1\u001b[0m\n",
      "\u001b[32m2025-01-02 11:04:29.920\u001b[0m | \u001b[1mINFO    \u001b[0m | \u001b[36mmain_\u001b[0m:\u001b[36m_gen_embed_plan\u001b[0m:\u001b[36m523\u001b[0m - \u001b[1mCreated plan embedding 2\u001b[0m\n",
      "\u001b[32m2025-01-02 11:04:30.820\u001b[0m | \u001b[1mINFO    \u001b[0m | \u001b[36mmain_\u001b[0m:\u001b[36mgenerate_embeddings_plan_and_section_content\u001b[0m:\u001b[36m672\u001b[0m - \u001b[1mFinished creating plan json\u001b[0m\n",
      "\u001b[32m2025-01-02 11:04:30.882\u001b[0m | \u001b[1mINFO    \u001b[0m | \u001b[36mmain_\u001b[0m:\u001b[36mextract_plan_and_content\u001b[0m:\u001b[36m1136\u001b[0m - \u001b[1m\n",
      "\tSuccessfully extracted plan and content for data/patents/CONDOM FOR ORAL-GENITAL USE.txt\n",
      "\tWritten to file: /home/xavier/document_embedding_analysis/output/patent/CONDOM FOR ORAL-GENITAL USE.json\n",
      "\tTime taken:  18.6s\u001b[0m\n"
     ]
    }
   ],
   "source": [
    "plan_json = await extract_plan_and_content_patent('data/patents/CONDOM FOR ORAL-GENITAL USE.txt')"
   ]
  },
  {
   "cell_type": "code",
   "execution_count": 4,
   "metadata": {
    "collapsed": false
   },
   "outputs": [
    {
     "name": "stdout",
     "output_type": "stream",
     "text": [
      "{'id': '901018fe-0a22-40cb-9e61-fdb7068d3375',\n",
      " 'title': 'CONDOM FOR ORAL-GENITAL USE',\n",
      " 'abstract': 'EP\\t0600858\\tB1\\t2000-05-17\\ten\\tDESCR\\t1\\t<heading '\n",
      "             'id=\"h0001\"><u><b>Background of the Invention</b></u></heading><p '\n",
      "             'id=\"p0001\" num=...',\n",
      " 'title_embedding_1': [-0.01704478546567264,\n",
      "                       0.014600377691821645,\n",
      "                       0.00965871145344032,\n",
      "                       -0.006282786973302903,\n",
      "                       0.0017804532770638595,\n",
      "                       '...'],\n",
      " 'title_embedding_2': [-0.0156312994658947,\n",
      "                       0.009681111201643944,\n",
      "                       -0.025443455204367638,\n",
      "                       0.007561311591416597,\n",
      "                       -0.04576288163661957,\n",
      "                       '...'],\n",
      " 'abstract_embedding_1': [-0.018546617592705147,\n",
      "                          0.004004383195714558,\n",
      "                          0.0038718101190326724,\n",
      "                          -0.013624421075753727,\n",
      "                          0.005999776371265371,\n",
      "                          '...'],\n",
      " 'abstract_embedding_2': [0.023962130770087242,\n",
      "                          0.01078236848115921,\n",
      "                          -0.003325853031128645,\n",
      "                          -0.02163991890847683,\n",
      "                          -0.04156298562884331,\n",
      "                          '...'],\n",
      " 'plan': [{'section_id': 1,\n",
      "           'section': 'Unique Solution to Oral Sex Safety',\n",
      "           'content': '. This is a unique solution to a very serious '\n",
      "                      'problem.</p><p id=\"p0003\" num=\"0003\">The typical male '\n",
      "                      'condom device may be used...',\n",
      "           'section_embedding_1': [0.009071988307259677,\n",
      "                                   0.0022575613742439418,\n",
      "                                   0.015291586945818555,\n",
      "                                   -0.010811249096465095,\n",
      "                                   0.0016053383454612598,\n",
      "                                   '...'],\n",
      "           'section_embedding_2': [0.002429187297821045,\n",
      "                                   0.04558990150690079,\n",
      "                                   -0.022047635167837143,\n",
      "                                   -0.03353506326675415,\n",
      "                                   -0.00987346563488245,\n",
      "                                   '...'],\n",
      "           'content_embedding_1': [-0.013931183191934546,\n",
      "                                   0.008216171171365552,\n",
      "                                   0.013003334385331593,\n",
      "                                   -0.019807561761054502,\n",
      "                                   0.017158485291951953,\n",
      "                                   '...'],\n",
      "           'content_embedding_2': [0.019768126308918,\n",
      "                                   0.05522848293185234,\n",
      "                                   0.007539399433881044,\n",
      "                                   -0.043157465755939484,\n",
      "                                   -0.02401663549244404,\n",
      "                                   '...'],\n",
      "           'resources_used': []},\n",
      "          {'section_id': 2,\n",
      "           'section': 'Condom for Oral Sex',\n",
      "           'content': '. These \"aesthetically fastidious\" individuals may now '\n",
      "                      'safely and pleasurably benefit themselves and their sex '\n",
      "                      'partners, usin...',\n",
      "           'section_embedding_1': [-0.0070604058884976,\n",
      "                                   0.006116589609480451,\n",
      "                                   0.0062424317800160705,\n",
      "                                   -0.01690258479860431,\n",
      "                                   -0.0023794097664343156,\n",
      "                                   '...'],\n",
      "           'section_embedding_2': [0.023529620841145515,\n",
      "                                   0.005277079995721579,\n",
      "                                   -0.010721771977841854,\n",
      "                                   0.006590374279767275,\n",
      "                                   -0.02867843396961689,\n",
      "                                   '...'],\n",
      "           'content_embedding_1': [-0.031360838476081405,\n",
      "                                   0.004618669930355608,\n",
      "                                   0.01338125641203387,\n",
      "                                   0.0008833799954194547,\n",
      "                                   -0.009216993254062566,\n",
      "                                   '...'],\n",
      "           'content_embedding_2': [0.013244390487670898,\n",
      "                                   0.06675033271312714,\n",
      "                                   4.2358638893347234e-05,\n",
      "                                   -0.03167541325092316,\n",
      "                                   -0.011226432397961617,\n",
      "                                   '...'],\n",
      "           'resources_used': []},\n",
      "          {'section_id': 3,\n",
      "           'section': 'Innovative Condom Design for Oral Sex',\n",
      "           'content': '. A penis may be inserted into the tubular member '\n",
      "                      'without making direct contact with the lips or mouth or '\n",
      "                      'tongue of the weare...',\n",
      "           'section_embedding_1': [-0.014625678639848897,\n",
      "                                   0.012334413716498153,\n",
      "                                   0.0026376985243982258,\n",
      "                                   0.0015992547708474317,\n",
      "                                   0.0062323775518106275,\n",
      "                                   '...'],\n",
      "           'section_embedding_2': [-0.001517262076959014,\n",
      "                                   0.025973258540034294,\n",
      "                                   -0.02504122443497181,\n",
      "                                   -0.003462228924036026,\n",
      "                                   -0.03308209776878357,\n",
      "                                   '...'],\n",
      "           'content_embedding_1': [-0.03048947897159689,\n",
      "                                   0.011058849540565201,\n",
      "                                   0.00722403515220117,\n",
      "                                   0.0008793743532417663,\n",
      "                                   -0.0049319231170661705,\n",
      "                                   '...'],\n",
      "           'content_embedding_2': [-0.012105409987270832,\n",
      "                                   0.05019182339310646,\n",
      "                                   -0.007242439780384302,\n",
      "                                   -0.06718765944242477,\n",
      "                                   -0.044452086091041565,\n",
      "                                   '...'],\n",
      "           'resources_used': []},\n",
      "          {'section_id': 4,\n",
      "           'section': 'Condom for Oral-Genital Use',\n",
      "           'content': '. In addition, the pliant material that forms the '\n",
      "                      'condom-like prophylactic may be provided with surface '\n",
      "                      'texture and colour to...',\n",
      "           'section_embedding_1': [-0.014856764453825761,\n",
      "                                   0.011291140947654675,\n",
      "                                   0.010498780065025255,\n",
      "                                   -0.00977244902311764,\n",
      "                                   0.00450325022465299,\n",
      "                                   '...'],\n",
      "           'section_embedding_2': [-0.015631256625056267,\n",
      "                                   0.00968114286661148,\n",
      "                                   -0.025443442165851593,\n",
      "                                   0.00756129901856184,\n",
      "                                   -0.04576288163661957,\n",
      "                                   '...'],\n",
      "           'content_embedding_1': [-0.024948728700778904,\n",
      "                                   0.023647889019665358,\n",
      "                                   -0.000275358581271305,\n",
      "                                   -0.016061942701614332,\n",
      "                                   -0.0008267175705740791,\n",
      "                                   '...'],\n",
      "           'content_embedding_2': [0.011805900372564793,\n",
      "                                   0.033810049295425415,\n",
      "                                   -0.012935040518641472,\n",
      "                                   -0.07791005074977875,\n",
      "                                   -0.02149101346731186,\n",
      "                                   '...'],\n",
      "           'resources_used': []},\n",
      "          {'section_id': 5,\n",
      "           'section': 'Description of the Preferred Embodiments',\n",
      "           'content': '.</li><li>Figure 15 is a cross-sectional view as in '\n",
      "                      'Figure 7, showing the use of the embodiment of Figure '\n",
      "                      '14 of the present i...',\n",
      "           'section_embedding_1': [-0.044126721819393595,\n",
      "                                   0.0051154413460947285,\n",
      "                                   0.0027285804240959046,\n",
      "                                   0.0007977775997879963,\n",
      "                                   -0.0030720261326860816,\n",
      "                                   '...'],\n",
      "           'section_embedding_2': [-0.04834037646651268,\n",
      "                                   0.025808775797486305,\n",
      "                                   -0.031010573729872704,\n",
      "                                   -0.062454551458358765,\n",
      "                                   -0.008063163608312607,\n",
      "                                   '...'],\n",
      "           'content_embedding_1': [-0.04100723547860004,\n",
      "                                   0.02449905676064629,\n",
      "                                   0.00988735999595114,\n",
      "                                   0.005834554763872092,\n",
      "                                   -0.0012148292685553745,\n",
      "                                   '...'],\n",
      "           'content_embedding_2': [0.01871115155518055,\n",
      "                                   0.0636800155043602,\n",
      "                                   -0.021277008578181267,\n",
      "                                   -0.08644594252109528,\n",
      "                                   -0.013403596356511116,\n",
      "                                   '...'],\n",
      "           'resources_used': []},\n",
      "          '...'],\n",
      " 'resources': [],\n",
      " 'plan_embedding_1': [-0.01761580550945907,\n",
      "                      0.007597513443360826,\n",
      "                      -0.0013307052937458108,\n",
      "                      -0.007816852003235748,\n",
      "                      -0.0006612612299145189,\n",
      "                      '...'],\n",
      " 'plan_embedding_2': [0.0031359993760512834,\n",
      "                      0.015308351246252036,\n",
      "                      -0.016249670831712137,\n",
      "                      -0.0323984228768192,\n",
      "                      -0.026115541152345635,\n",
      "                      '...'],\n",
      " 'embedding1_model': 'text-embedding-ada-002',\n",
      " 'embedding2_model': 'nomic-embed-text-v1',\n",
      " 'success': True,\n",
      " 'error': None}\n"
     ]
    }
   ],
   "source": [
    "truncated_pprint(plan_json)"
   ]
  },
  {
   "cell_type": "code",
   "execution_count": 5,
   "metadata": {
    "collapsed": false
   },
   "outputs": [
    {
     "data": {
      "text/plain": [
       "PosixPath('/home/xavier/document_embedding_analysis/CONDOM FOR ORAL-GENITAL USE.json')"
      ]
     },
     "execution_count": 5,
     "metadata": {},
     "output_type": "execute_result"
    }
   ],
   "source": [
    "Path(f'{plan_json[\"title\"]}.json').absolute()"
   ]
  },
  {
   "cell_type": "code",
   "execution_count": 6,
   "metadata": {
    "collapsed": false
   },
   "outputs": [],
   "source": [
    "with open(f'{plan_json[\"title\"]}.json', 'w') as file:\n",
    "    json.dump(plan_json, file, indent=4)"
   ]
  },
  {
   "cell_type": "code",
   "execution_count": 7,
   "metadata": {
    "collapsed": false
   },
   "outputs": [
    {
     "data": {
      "text/plain": [
       "'CONDOM FOR ORAL-GENITAL USE'"
      ]
     },
     "execution_count": 7,
     "metadata": {},
     "output_type": "execute_result"
    }
   ],
   "source": [
    "plan_json['title']"
   ]
  },
  {
   "cell_type": "code",
   "execution_count": 8,
   "metadata": {
    "collapsed": false
   },
   "outputs": [
    {
     "ename": "FileNotFoundError",
     "evalue": "[Errno 2] No such file or directory: 'condom.json'",
     "output_type": "error",
     "traceback": [
      "\u001b[0;31m---------------------------------------------------------------------------\u001b[0m",
      "\u001b[0;31mFileNotFoundError\u001b[0m                         Traceback (most recent call last)",
      "Cell \u001b[0;32mIn[8], line 1\u001b[0m\n\u001b[0;32m----> 1\u001b[0m \u001b[38;5;28;01mwith\u001b[39;00m \u001b[38;5;28;43mopen\u001b[39;49m\u001b[43m(\u001b[49m\u001b[38;5;124;43m'\u001b[39;49m\u001b[38;5;124;43mcondom.json\u001b[39;49m\u001b[38;5;124;43m'\u001b[39;49m\u001b[43m,\u001b[49m\u001b[43m \u001b[49m\u001b[38;5;124;43m'\u001b[39;49m\u001b[38;5;124;43mr\u001b[39;49m\u001b[38;5;124;43m'\u001b[39;49m\u001b[43m)\u001b[49m \u001b[38;5;28;01mas\u001b[39;00m file:\n\u001b[1;32m      2\u001b[0m     loaded \u001b[38;5;241m=\u001b[39m json\u001b[38;5;241m.\u001b[39mload(file)\n\u001b[1;32m      4\u001b[0m loaded\u001b[38;5;241m.\u001b[39mkeys()\n",
      "File \u001b[0;32m/opt/miniconda3/envs/doc_embedding/lib/python3.10/site-packages/IPython/core/interactiveshell.py:324\u001b[0m, in \u001b[0;36m_modified_open\u001b[0;34m(file, *args, **kwargs)\u001b[0m\n\u001b[1;32m    317\u001b[0m \u001b[38;5;28;01mif\u001b[39;00m file \u001b[38;5;129;01min\u001b[39;00m {\u001b[38;5;241m0\u001b[39m, \u001b[38;5;241m1\u001b[39m, \u001b[38;5;241m2\u001b[39m}:\n\u001b[1;32m    318\u001b[0m     \u001b[38;5;28;01mraise\u001b[39;00m \u001b[38;5;167;01mValueError\u001b[39;00m(\n\u001b[1;32m    319\u001b[0m         \u001b[38;5;124mf\u001b[39m\u001b[38;5;124m\"\u001b[39m\u001b[38;5;124mIPython won\u001b[39m\u001b[38;5;124m'\u001b[39m\u001b[38;5;124mt let you open fd=\u001b[39m\u001b[38;5;132;01m{\u001b[39;00mfile\u001b[38;5;132;01m}\u001b[39;00m\u001b[38;5;124m by default \u001b[39m\u001b[38;5;124m\"\u001b[39m\n\u001b[1;32m    320\u001b[0m         \u001b[38;5;124m\"\u001b[39m\u001b[38;5;124mas it is likely to crash IPython. If you know what you are doing, \u001b[39m\u001b[38;5;124m\"\u001b[39m\n\u001b[1;32m    321\u001b[0m         \u001b[38;5;124m\"\u001b[39m\u001b[38;5;124myou can use builtins\u001b[39m\u001b[38;5;124m'\u001b[39m\u001b[38;5;124m open.\u001b[39m\u001b[38;5;124m\"\u001b[39m\n\u001b[1;32m    322\u001b[0m     )\n\u001b[0;32m--> 324\u001b[0m \u001b[38;5;28;01mreturn\u001b[39;00m \u001b[43mio_open\u001b[49m\u001b[43m(\u001b[49m\u001b[43mfile\u001b[49m\u001b[43m,\u001b[49m\u001b[43m \u001b[49m\u001b[38;5;241;43m*\u001b[39;49m\u001b[43margs\u001b[49m\u001b[43m,\u001b[49m\u001b[43m \u001b[49m\u001b[38;5;241;43m*\u001b[39;49m\u001b[38;5;241;43m*\u001b[39;49m\u001b[43mkwargs\u001b[49m\u001b[43m)\u001b[49m\n",
      "\u001b[0;31mFileNotFoundError\u001b[0m: [Errno 2] No such file or directory: 'condom.json'"
     ]
    }
   ],
   "source": [
    "with open('condom.json', 'r') as file:\n",
    "    loaded = json.load(file)\n",
    "\n",
    "loaded.keys()"
   ]
  },
  {
   "cell_type": "code",
   "execution_count": 9,
   "metadata": {
    "collapsed": false
   },
   "outputs": [],
   "source": [
    "with open('data/2022week30_EP0600000_extract.txt', 'r') as f:\n",
    "    text = f.read()\n",
    "\n",
    "with open('data/2022week30_EP0600000_extract.txt', 'r') as f:\n",
    "    lines = f.readlines()"
   ]
  },
  {
   "cell_type": "code",
   "execution_count": 10,
   "metadata": {
    "collapsed": false
   },
   "outputs": [
    {
     "data": {
      "text/plain": [
       "200"
      ]
     },
     "execution_count": 10,
     "metadata": {},
     "output_type": "execute_result"
    }
   ],
   "source": [
    "len(lines)"
   ]
  },
  {
   "cell_type": "markdown",
   "metadata": {
    "collapsed": false
   },
   "source": [
    "* \\ten\\t shows it's English\n",
    "* \\tfr\\t shows it's French etc.\n",
    "* Contains TITLE, DESCR, and CLAIM\n",
    "* Sometimes CLAIM 1 and CLAIM 2 are written in different languages. Do we still need to translate them? No. Even though it says 'CLAIM 2' it's actually the same information, just take the english bit.\n",
    "\n",
    "Results\n",
    "* Only ever 1 x CLAIM\n",
    "* Split on TITLE and everything is fine."
   ]
  },
  {
   "cell_type": "code",
   "execution_count": 11,
   "metadata": {
    "collapsed": false
   },
   "outputs": [
    {
     "data": {
      "text/plain": [
       "'EP\\t0668908\\tB1\\t2000-05-03\\tde\\tCLAIM\\t2\\t<claim id=\"c-de-01-0001\" num=\"0001\"><claim-text>Verfahren zur differenzierten Diagnose einer NematodenInfektion mit einem speziellen Nematoden-Typ, das im Fall von gemischten Nematoden-Infektionen anwendbar ist, wobei bei dem Verfahren eine DNA-Sequenz, die das β-Tubulin-Gen oder ein Teil dieses Gens dieser Nematode ist, als Oligonukleotid-Sonde und/oder Primer verwendet wird, und der Teil mindestens 10, vorzugsweise mindestens 18 Nukleotide, umfaßt.</claim-text></claim><claim id=\"c-de-01-0002\" num=\"0002\"><claim-text>Verfahren nach Anspruch 1, bei dem die spezielle Nematode Haemonchus contortus und das β-Tubulin-Gen das β-Tubulin-Gen von Haemonchus contortus ist.</claim-text></claim><claim id=\"c-de-01-0003\" num=\"0003\"><claim-text>Verfahren nach Anspruch 1 oder 2, bei dem die Sonde und/oder der Primer einen Teil der 3\\'-Hälfte des β-Tubulin-Gens umfaßt.</claim-text></claim><claim id=\"c-de-01-0004\" num=\"0004\"><claim-text>Verfahren nach einem der Ansprüche 1-3, bei dem die Sonde und/oder der Primer artenspezifisch ist.</claim-text></claim><claim id=\"c-de-01-0005\" num=\"0005\"><claim-text>Verfahren nach Anspruch 4, bei dem es sich bei der Sonde und/oder dem Primer um mindestens 10 Nukleotide eines für H. contortus spezifischen Introns handelt.</claim-text></claim><claim id=\"c-de-01-0006\" num=\"0006\"><claim-text>Verfahren nach einem der Ansprüche 1-4, bei dem die Sonde von der DNA-Sequenz stammt, welche die Aminosäuren 332-335 des β-Tubulins von H. contortus kodiert.<!-- EPO <DP n=\"17\"> --></claim-text></claim><claim id=\"c-de-01-0007\" num=\"0007\"><claim-text>Verfahren nach einem der Ansprüche 1-6, bei dem die gesamte Nematoden-DNA auf eine Nylon-Membran aufgebracht und mit der Sonde hybridisiert wird.</claim-text></claim><claim id=\"c-de-01-0008\" num=\"0008\"><claim-text>Verfahren nach einem der Ansprüche 1-3, bei dem ein Primer ausgewählt wird, der in verschiedenen Nematoden-Typen konserviert ist, wobei der Primer so lokalisiert ist, daß die von der Gesamt-DNA der Nematode amplifizierte DNA für jede Nematode eine artspezifische Länge hat.</claim-text></claim><claim id=\"c-de-01-0009\" num=\"0009\"><claim-text>Verfahren nach Anspruch 8, bei dem der Primer eine kodierende Sequenz für eine konservierte Aminosäuresequenz ist.</claim-text></claim><claim id=\"c-de-01-0010\" num=\"0010\"><claim-text>Verfahren nach Anspruch 9, bei dem zwei Primer ausgewählt werden, die in verschiedenen Nematoden konserviert sind, wobei die Primer in der β-Tubulin-Sequenz so lokalisiert sind, daß das Amplifikationsprodukt jeder Nematode eine artenspezifische Länge hat.</claim-text></claim><claim id=\"c-de-01-0011\" num=\"0011\"><claim-text>Verfahren nach einem der Ansprüche 1-3 oder 8-10, bei dem jedes Amplifikationsprodukt der Nematoden-DNA einen Teil der 3\\'-Hälfte des β-Tubulin-Gens umfaßt.</claim-text></claim><claim id=\"c-de-01-0012\" num=\"0012\"><claim-text>Verfahren nach einem der Ansprüche 1-3 oder 8-11, dadurch gekennzeichnet, daß β-1 und β-2 als Primer verwendet werden, wobei β-1 die Sequenz 5\\' ACGGATCTCAACCACCTTG 3\\' und β-2 die Sequenz 5\\' CTGGTACTGCTGGTATTCGGA 3\\' auf dem komplementären Strang hat, oder die Primer β-7 und β-8 verwendet werden, wobei β-7 die Aminosäuren 1-6 des β-Tubulins von H. contortus mit der DNA-Sequenz<claim-text>5\\' (CTA)G(GC)(GTAC)GA(CT)(CT)T(GCAT)AA(CT)CA(CT)(CT)T 3\\'</claim-text><!-- EPO <DP n=\"18\"> --> und β-8 die Aminosäuren 199-205 des β-Tubulins von H. contortus mit der DNA-Sequenz<claim-text>5\\' TC(CT)TGGTA(TC)TG(CT)(TG)(GA)TA(CT)TC 3\\'</claim-text> auf dem komplementären Strang umfaßt.</claim-text></claim><claim id=\"c-de-01-0013\" num=\"0013\"><claim-text>Verfahren nach einem der vorhergehenden Ansprüche, mit dem die Infektion mit H. contortus von Infektionen mit den unterschiedlichen Nematoden Cooperia circumcincta, Ostertagia circumcincta, Nematodirus battus, Nippostrongylus brasiliensis, Trichinella spiralis, Trichinella nativa, Trichostrongylus vitrinuns und Trichostrongylus colubriformis differenziert werden kann.</claim-text></claim><claim id=\"c-de-01-0014\" num=\"0014\"><claim-text>Verfahren nach einem der Ansprüche 1-3 und 8-13, dadurch gekennzeichnet, daß eine für H. contortus spezifische Diagnose der Infektion durchgeführt wird, wenn das Amplifikationsprodukt eine Länge von 1,3 kb hat.</claim-text></claim><claim id=\"c-de-01-0015\" num=\"0015\"><claim-text>Verfahren nach einem der Ansprüche 1-3, 8-14, dadurch gekennzeichnet, daß eine für Trichostrongylus colubriformis spezifische Diagnose der Infektion durchgeführt wird, wenn das Amplifikationsprodukt eine Länge von 0,9 kb hat.</claim-text></claim><claim id=\"c-de-01-0016\" num=\"0016\"><claim-text>Kit zur Durchführung einer differenzierten Diagnose einer Infektion mit Haemonchus contortus nach einem der vorhergehenden Ansprüche, wobei der Kit mindestens einen Primer enthält, der eine kodierende DNA-Sequenz umfaßt, welche die 3\\'-Hälfte des β-Tubulin-Gens der Nematode Haemonchus contortus ist, das in dem unter der Zugangsnummer CBS 334.90 beim Centraal Bureau Schimmelcultures in Baarn, Niederlande, hinterlegten Plasmid enthalten ist, und wobei der Primer eine Länge von mindestens 10 Nukleotiden, vorzugsweise mindestens<!-- EPO <DP n=\"19\"> --> 18, hat und wobei der Primer eine in verschiedenen Nematoden konservierte Sequenz ist und in der DNA-Sequenz von Haemonchus contortus so lokalisiert ist, daß deren Amplifikationsprodukt eine artenspezifische Länge hat.</claim-text></claim><claim id=\"c-de-01-0017\" num=\"0017\"><claim-text>Kit nach Anspruch 16, wobei der Kit die Primer mit den Nukleinsäuresequenzen β-1 und β-2 und/oder die Primer β-7 und<claim-text>β-8 enthält, wobei</claim-text><claim-text>β-1 = 5\\'ACGGATCTCAACCACCTTG 3\\'</claim-text><claim-text>β-2 = 5\\'CTGGTACTGCTGGTATTCGGA 3\\'</claim-text><claim-text>β-7 = 5\\'(CTA)G(GC)(GTAC)GA(CT)(CT)T(GCAT)AA(CT)CA(CT)(CT)T 3\\'</claim-text><claim-text>β-8 = 5\\'TC(CT)TGGTA(TC)TG(CT)TG(GA)TA(CT)TC 3\\' ist.</claim-text></claim-text></claim><claim id=\"c-de-01-0018\" num=\"0018\"><claim-text>Kit zur Durchführung einer differenzierten Diagnose einer Infektion mit Haemonchus contortus nach einem der Ansprüche 1-15, wobei der Kit mindestens eine Sonde und/oder einen Primer enthält, die/der für Haemonchus contortus artenspezifisch ist, und wobei die Sonde oder der Primer von einer kodierenden DNA-Sequenz stammt, welche die 3\\'-Hälfte des β-Tubulin-Gens von Haemonchus contortus ist, das in dem unter der Zugangsnummer CBS 334.90 beim Centraal Bureau Schimmelcultures in Baarn, Niederlande, hinterlegten Plasmid enthalten ist.</claim-text></claim><claim id=\"c-de-01-0019\" num=\"0019\"><claim-text>Kit nach Anspruch 18, wobei der Kit die Primer mit den Nukleinsäuresequenzen β-1 und β-2 und/oder die Primer β-7 und β-8 enthält, wobei<claim-text>β-1 = 5\\'ACGGATCTCAACCACCTTG 3\\'</claim-text><claim-text>β-2 = 5\\'CTGGTACTGCTGGTATTCGGA 3\\'</claim-text><claim-text>β-7 = 5\\'(CTA)G(GC)(GTAC)GA(CT)(CT)T(GCAT)AA(CT)CA(CT)(CT)T 3\\'</claim-text><claim-text>β-8 = 5\\'TC(CT)TGGTA(TC)TG(CT)TG(GA)TA(CT)TC 3\\' ist.</claim-text></claim-text></claim>\\n'"
      ]
     },
     "execution_count": 11,
     "metadata": {},
     "output_type": "execute_result"
    }
   ],
   "source": [
    "claim_en = lines[20]\n",
    "claim_de = lines[21]\n",
    "claim_fr = lines[22]\n",
    "claim_de"
   ]
  },
  {
   "cell_type": "code",
   "execution_count": 12,
   "metadata": {
    "collapsed": false
   },
   "outputs": [
    {
     "data": {
      "text/plain": [
       "'EP\\t0668908\\tB1\\t2000-05-03\\ten\\tCLAIM\\t1\\t<claim id=\"c-en-01-0001\" num=\"0001\"><claim-text>A method for differentiated diagnosis of nematode infection with a specific type of nematode useful in the case of mixed nematode infections said method comprising use of a DNA sequence, said DNA sequence being the β-tubulin gene or a part of said gene of said nematode as oligonucleotide probe and/or primer, said part comprising at least 10, preferably at least 18 nucleotides.</claim-text></claim><claim id=\"c-en-01-0002\" num=\"0002\"><claim-text>A method according to claim 1 wherein the specific nematode is <u>Haemonchus</u> <u>contortus</u> and the β-tubulin gene is the β-tubulin gene of <u>Haemonchus</u> <u>contortus</u>.</claim-text></claim><claim id=\"c-en-01-0003\" num=\"0003\"><claim-text>A method according to claim 1 or 2 wherein the probe and/or primer comprises a part of the 3\\' half of the β-tubulin gene.</claim-text></claim><claim id=\"c-en-01-0004\" num=\"0004\"><claim-text>A method according to any of claims 1-3 wherein the probe and/or primer is species specific.</claim-text></claim><claim id=\"c-en-01-0005\" num=\"0005\"><claim-text>A method according to claim 4, wherein the probe and/or primer is at least 10 nucleotides from a <u>H. contortus</u> specific intron.</claim-text></claim><claim id=\"c-en-01-0006\" num=\"0006\"><claim-text>A method according to any of claims 1-4 wherein the probe is derived from the DNA sequence encoding amino acids 332-335 of <u>H. contortus</u> β-tubulin.</claim-text></claim><claim id=\"c-en-01-0007\" num=\"0007\"><claim-text>A method according to any of claims 1-6 wherein the total nematode DNA is applied to a nylon membrane and hybridised with the probe.</claim-text></claim><claim id=\"c-en-01-0008\" num=\"0008\"><claim-text>A method according to any of claims 1-3 wherein a primer is selected that is conserved in various nematode types, whereby the primer is located such that the DNA that is amplified from the total DNA of the nematode has a species specific length per nematode.</claim-text></claim><claim id=\"c-en-01-0009\" num=\"0009\"><claim-text>A method according to claim 8 wherein the primer is a coding sequence for a conserved amino acid sequence.</claim-text></claim><claim id=\"c-en-01-0010\" num=\"0010\"><claim-text>A method acording to claim 9 wherein two primers are<!-- EPO <DP n=\"14\"> --> selected that are conserved in various nematodes, which primers are located in the β-tubulin sequence such that the amplification product has species specific length per nematode.</claim-text></claim><claim id=\"c-en-01-0011\" num=\"0011\"><claim-text>A method according to any of claims 1-3 or 8-10, wherein any amplification product of the nematode DNA comprises a part of the 3\\' half of the β-tubulin gene.</claim-text></claim><claim id=\"c-en-01-0012\" num=\"0012\"><claim-text>A method according to any of claims 1-3 or 8-11, characterised in that β-1 and β-2 are used as primers, whereby β-1 has the sequence 5\\' ACGGATCTCAACCACCTTG 3\\' and β-2 has the sequence 5\\' CTGGTACTGCTGGTATTCGGA 3\\' on the complementary strand, or primers β-7 and β-8 are used whereby β-7 comprises the amino acids 1-6 of β-tubulin of <u>H. contortus</u> with DNA sequence: 5\\' (CTA)G(GC)(GTAC)GA(CT)(CT)T(GCAT)AA(CT)CA(CT)(CT)T 3\\' and β-8 comprises the amino acids 199-205 of β-tubulin of <u>H.</u> <u>contortus</u> with DNA sequence. 5\\' TC(CT)TGGTA(TC)TG(CT)TG(GA)TA(CT)TC 3\\' on the complementary strand.</claim-text></claim><claim id=\"c-en-01-0013\" num=\"0013\"><claim-text>A method according to any of the preceding claims wherein <u>H. contortus</u> infection can be differentiated from infection with the various nematodes <u>Cooperia</u> <u>circumcincta.</u>, <u>Ostertagia</u> <u>circumcincta</u>, <u>Nematodirus</u> <u>battus</u>, <u>Nippostrongylus</u> <u>brasiliensis</u>, <u>Trichinella</u> <u>spiralis</u>, <u>Trichinella</u> <u>nativa</u>, <u>Trichostrongylus</u> <u>vitrinus</u> and <u>Trichostrongylus colubriformis</u>.</claim-text></claim><claim id=\"c-en-01-0014\" num=\"0014\"><claim-text>A method according to any of claims 1-3 and 8-13, characterised in that a diagnosis of infection is carried out which is specific for <u>H.</u> <u>contortus</u> when the amplification product has a length of 1,3 kb.</claim-text></claim><claim id=\"c-en-01-0015\" num=\"0015\"><claim-text>A method according to any of claims 1-3, 8-14, characterised in that a diagnosis of infection is carried out which is specific for <u>Trichostrongylus</u> <u>colubriformis</u> when the amplification product has a length of 0,9 kb.</claim-text></claim><claim id=\"c-en-01-0016\" num=\"0016\"><claim-text>Kit for carrying out a differentiated diagnosis of infection with <u>Haemonchus</u> <u>contortus</u> according to any of the preceding claims, which kit comprises at least a primer comprising DNA coding sequence, said DNA coding sequence being the 3\\' half of the β-tubulin<!-- EPO <DP n=\"15\"> --> gene comprised in the nematode <u>Haemonchus</u> <u>contortus</u> in the plasmid deposited under accession number CBS 334.90 at the Centraal Bureau Schimmelcultures in Baarn The Netherlands, said primer having a length of at least 10 nucleotides preferably of at least 18, said primer being a sequence conserved in various nematodes and located in the DNA sequence of <u>Haemonchus</u> <u>contortus</u> such that the amplification product thereof has a species specific length.</claim-text></claim><claim id=\"c-en-01-0017\" num=\"0017\"><claim-text>Kit according to claim 16 which kit comprises the primers with nucleic acid sequences β-1 and β-2 and/or the primers β-7 and β-8 wherein<claim-text>β-1 =5\\'ACGGATCTCAACCACCTTG 3\\'</claim-text><claim-text>β-2 =5\\'CTGGTACTGCTGGTATTCGGA 3\\'</claim-text><claim-text>β-7 =5\\'(CTA)G(GC)(GTAC)GA(CT)(CT)T(GCAT)AA(CT)CA(CT)(CT)T 3\\'</claim-text><claim-text>β-8 =5\\'TC(CT)TGGTA(TC)TG(CT)TG(GA)TA(CT)TC 3\\'.</claim-text></claim-text></claim><claim id=\"c-en-01-0018\" num=\"0018\"><claim-text>Kit for carrying out a differentiated diagnosis of infection with <u>Haemonchus</u> <u>contortus</u> according to any of claims 1-15 which kit comprises<br/>at least a probe and/or primer species specific for <u>Haemonchus</u> <u>contortus</u> said probe or primer being derived from a DNA coding sequence, said DNA coding sequence being the 3\\' half of the β-tubulin gene of <u>Haemonchus contortus</u> comprised in the plasmid deposited under accession number CBS 334.90 at the Centraal Bureau Schimmelcultures in Baarn The Netherlands.</claim-text></claim><claim id=\"c-en-01-0019\" num=\"0019\"><claim-text>Kit according to claim 18 which kit comprises the primers with nucleic acid sequences β-1 and β-2 and/or the primers β-7 and β-8 wherein<claim-text>β-1 =5\\'ACGGATCTCAACCACCTTG 3\\'</claim-text><claim-text>β-2 =5\\'CTGGTACTGCTGGTATTCGGA 3\\'</claim-text><claim-text>β-7 =5\\'(CTA)G(GC)(GTAC)GA(CT)(CT)T(GCAT)AA(CT)CA(CT)(CT)T 3\\'</claim-text><claim-text>β-8 =5\\'TC(CT)TGGTA(TC)TG(CT)TG(GA)TA(CT)TC 3\\'.</claim-text></claim-text></claim>\\n'"
      ]
     },
     "execution_count": 12,
     "metadata": {},
     "output_type": "execute_result"
    }
   ],
   "source": [
    "claim_en"
   ]
  },
  {
   "cell_type": "code",
   "execution_count": 13,
   "metadata": {
    "collapsed": false
   },
   "outputs": [
    {
     "data": {
      "text/plain": [
       "'EP\\t0600858\\tB1\\t2000-05-17\\ten\\tTITLE\\t1\\tCONDOM FOR ORAL-GENITAL USE\\n'"
      ]
     },
     "execution_count": 13,
     "metadata": {},
     "output_type": "execute_result"
    }
   ],
   "source": [
    "lines_en = [line for line in lines if '\\ten\\t' in line]\n",
    "lines_en[0]"
   ]
  },
  {
   "cell_type": "code",
   "execution_count": 14,
   "metadata": {
    "collapsed": false
   },
   "outputs": [
    {
     "data": {
      "text/plain": [
       "'EP\\t0600865\\tB1\\t2000-09-20\\ten\\tTITLE\\t1\\tXYLANASE PRODUCTION\\n'"
      ]
     },
     "execution_count": 14,
     "metadata": {},
     "output_type": "execute_result"
    }
   ],
   "source": [
    "lines_en[4]"
   ]
  },
  {
   "cell_type": "code",
   "execution_count": 15,
   "metadata": {
    "collapsed": false
   },
   "outputs": [
    {
     "data": {
      "text/plain": [
       "defaultdict(str, {1: 'hello'})"
      ]
     },
     "execution_count": 15,
     "metadata": {},
     "output_type": "execute_result"
    }
   ],
   "source": [
    "a = defaultdict(str)\n",
    "a[1] += 'hello'\n",
    "a"
   ]
  },
  {
   "cell_type": "code",
   "execution_count": 16,
   "metadata": {
    "collapsed": false
   },
   "outputs": [],
   "source": [
    "def split_patents_into_individual_files(patents_file):\n",
    "    \"\"\"Read in a file containing many patents. Split each patent into its own file, keeping\n",
    "    only the english parts, and write to disk.\"\"\"\n",
    "    # Read in file\n",
    "    with open(patents_file, 'r') as f:\n",
    "        lines = f.readlines()\n",
    "    # Get all eng sections\n",
    "    lines_en = [line for line in lines if '\\ten\\t' in line]\n",
    "    # Split each on TITLE and write to its own file with TITLE as filename\n",
    "    os.makedirs('data/patents', exist_ok=True)\n",
    "    title = 'no title found'\n",
    "    # Create dict of patents\n",
    "    patents: defaultdict = defaultdict(str)\n",
    "    for i, x in enumerate(lines_en):\n",
    "        if '\\tTITLE\\t' in x:\n",
    "            title = x.split('\\t')[-1].strip()\n",
    "        patents[title] += x\n",
    "\n",
    "    # Write each patent to its own file\n",
    "    for title, content in patents.items():\n",
    "        filename_friendly_title = \"\".join(i for i in title if i not in \"\\/:*?<>|\")\n",
    "        with open(f'data/patents/{filename_friendly_title}.txt', 'w') as f:\n",
    "            f.write(content)\n",
    "            logger.info(f'Wrote file: {filename_friendly_title}.txt')\n",
    "\n",
    "def load_patent_file(patent_file) -> Dict[str, str]:\n",
    "    \"\"\"Read in a patent file and return a dict with keys as section titles and values the content.\n",
    "\n",
    "    Parameters\n",
    "    ----------\n",
    "    patent_file : str\n",
    "        Path to the patent file.\n",
    "\n",
    "    Returns\n",
    "    -------\n",
    "    patent_dict : dict\n",
    "        Dict with keys as section titles and values the content. Keys are ['title',\n",
    "        'descr', 'claim_1', 'claim_2', ..., 'claim_n', 'pdfep']. Not all patents\n",
    "        will have all keys. All will have 'title' at a minimum.\n",
    "    \"\"\"\n",
    "    # Read file\n",
    "    with open(patent_file, 'r') as f:\n",
    "        lines: list = f.readlines()\n",
    "\n",
    "    # Get all english sections\n",
    "    lines_en: list = [line for line in lines if '\\ten\\t' in line]\n",
    "\n",
    "    # Convert into dict with keys as section titles and values the content\n",
    "    patent_dict = {}\n",
    "    total_claims = 1\n",
    "    for x in lines_en:\n",
    "        if '\\tTITLE\\t' in x:\n",
    "            patent_dict['title'] = x\n",
    "        elif '\\tDESCR\\t' in x:\n",
    "            patent_dict['descr'] = x\n",
    "        elif '\\tCLAIM\\t' in x:\n",
    "            # Some patents have multiple claims, so we need to number them\n",
    "            patent_dict[f'claim_{total_claims}'] = x\n",
    "            total_claims += 1\n",
    "        elif '\\tPDFEP' in x:\n",
    "            patent_dict['pdfep'] = x\n",
    "        else:\n",
    "            raise ValueError(f\"Expected sections in [TITLE, DESCR, CLAIM, PDFEP]. Received: {x}\")\n",
    "\n",
    "    return patent_dict\n"
   ]
  },
  {
   "cell_type": "code",
   "execution_count": 17,
   "metadata": {
    "collapsed": false
   },
   "outputs": [
    {
     "data": {
      "text/plain": [
       "dict_keys(['title', 'descr', 'claim_1', 'pdfep'])"
      ]
     },
     "execution_count": 17,
     "metadata": {},
     "output_type": "execute_result"
    }
   ],
   "source": [
    "a = load_patent_file('data/patents/XYLANASE PRODUCTION.txt')\n",
    "a.keys()"
   ]
  },
  {
   "cell_type": "code",
   "execution_count": 18,
   "metadata": {
    "collapsed": false
   },
   "outputs": [
    {
     "name": "stdout",
     "output_type": "stream",
     "text": [
      "\n",
      "Total Patents: 1\n",
      "0/93 - 'EP\\t0600858\\tB1\\t2000-05-17\\ten\\tTITLE\\t1\\tCONDOM FOR ORAL-GENITAL USE\\n'\n",
      "1/93 - 'EP\\t0600858\\tB1\\t2000-05-17\\ten\\tDESCR\\t1\\t<heading id=\"h0001\"><u><b>Background of the Invention</b></u></heading><p id=\"p0001\" num='\n",
      "2/93 - 'EP\\t0600858\\tB1\\t2000-05-17\\ten\\tCLAIM\\t1\\t<claim id=\"c-en-01-0001\" num=\"0001\"><claim-text>A condom (31) suitable for oral-genital u'\n",
      "3/93 - 'EP\\t0600858\\tB1\\t2000-05-17\\ten\\tPDFEP\\t1\\thttps://data.epo.org/publication-server/pdf-document?cc=EP&pn=0600858&ki=B1&pd=2000-05-17'\n",
      "\n",
      "Total Patents: 2\n",
      "4/93 - 'EP\\t0600865\\tB1\\t2000-09-20\\ten\\tTITLE\\t1\\tXYLANASE PRODUCTION\\n'\n",
      "5/93 - 'EP\\t0600865\\tB1\\t2000-09-20\\ten\\tDESCR\\t1\\t<p id=\"p0001\" num=\"0001\">This invention lies in the field of recombinant DNA technology. '\n",
      "6/93 - 'EP\\t0600865\\tB1\\t2000-09-20\\ten\\tCLAIM\\t1\\t<claim id=\"c-en-01-0001\" num=\"0001\"><claim-text>A recombinant DNA material comprising a n'\n",
      "7/93 - 'EP\\t0600865\\tB1\\t2000-09-20\\ten\\tPDFEP\\t1\\thttps://data.epo.org/publication-server/pdf-document?cc=EP&pn=0600865&ki=B1&pd=2000-09-20'\n",
      "\n",
      "Total Patents: 3\n",
      "8/93 - 'EP\\t0668908\\tB1\\t2000-05-03\\ten\\tTITLE\\t1\\tSPECIFIC DNA SEQUENCES OF A NEMATODE WHICH CAN BE USED FOR THE DIAGNOSIS OF INFECTION WIT'\n",
      "9/93 - 'EP\\t0668908\\tB1\\t2000-05-03\\ten\\tDESCR\\t1\\t<p id=\"p0001\" num=\"0001\">The present invention relates to a method for the diagnosis of a'\n",
      "10/93 - 'EP\\t0668908\\tB1\\t2000-05-03\\ten\\tCLAIM\\t1\\t<claim id=\"c-en-01-0001\" num=\"0001\"><claim-text>A method for differentiated diagnosis of '\n",
      "11/93 - 'EP\\t0668908\\tB1\\t2000-05-03\\ten\\tPDFEP\\t1\\thttps://data.epo.org/publication-server/pdf-document?cc=EP&pn=0668908&ki=B1&pd=2000-05-03'\n",
      "\n",
      "Total Patents: 4\n",
      "12/93 - 'EP\\t0600877\\tB1\\t2000-01-26\\ten\\tTITLE\\t1\\tSELECTION OF RIBOZYMES THAT EFFICIENTLY CLEAVE TARGET RNA\\n'\n",
      "13/93 - 'EP\\t0600877\\tB1\\t2000-01-26\\ten\\tDESCR\\t1\\t<heading id=\"h0001\"><u>Field of the Invention</u></heading><p id=\"p0001\" num=\"0001\">This '\n",
      "14/93 - 'EP\\t0600877\\tB1\\t2000-01-26\\ten\\tCLAIM\\t1\\t<claim id=\"c-en-01-0001\" num=\"0001\"><claim-text>A method for screening ribozymes for effe'\n",
      "15/93 - 'EP\\t0600877\\tB1\\t2000-01-26\\ten\\tPDFEP\\t1\\thttps://data.epo.org/publication-server/pdf-document?cc=EP&pn=0600877&ki=B1&pd=2000-01-26'\n",
      "\n",
      "Total Patents: 5\n",
      "16/93 - 'EP\\t0611955\\tB1\\t2000-01-12\\ten\\tTITLE\\t1\\tDevice for the examination of flow motion inside cylindrical components\\n'\n",
      "17/93 - 'EP\\t0611955\\tB1\\t2000-01-12\\ten\\tCLAIM\\t2\\t<claim id=\"c-en-01-0001\" num=\"0001\"><claim-text>An apparatus for investigating the flow m'\n",
      "\n",
      "Total Patents: 6\n",
      "18/93 - 'EP\\t0603422\\tB1\\t2000-05-24\\ten\\tTITLE\\t1\\tWear component and method of making same\\n'\n",
      "19/93 - 'EP\\t0603422\\tB1\\t2000-05-24\\ten\\tDESCR\\t1\\t<p id=\"p0001\" num=\"0001\">This invention relates to a wear component and a method of makin'\n",
      "20/93 - 'EP\\t0603422\\tB1\\t2000-05-24\\ten\\tCLAIM\\t1\\t<claim id=\"c-en-01-0001\" num=\"0001\"><claim-text>A wear component (20), comprising:<claim-'\n",
      "21/93 - 'EP\\t0603422\\tB1\\t2000-05-24\\ten\\tPDFEP\\t1\\thttps://data.epo.org/publication-server/pdf-document?cc=EP&pn=0603422&ki=B1&pd=2000-05-24'\n",
      "\n",
      "Total Patents: 7\n",
      "22/93 - 'EP\\t0604687\\tB1\\t2000-04-19\\ten\\tTITLE\\t1\\tMethod for deriving character features in a character recognition system\\n'\n",
      "23/93 - 'EP\\t0604687\\tB1\\t2000-04-19\\ten\\tDESCR\\t1\\t<heading id=\"h0001\">A. <u>Background of the invention</u></heading><heading id=\"h0002\">1.'\n",
      "24/93 - 'EP\\t0604687\\tB1\\t2000-04-19\\ten\\tCLAIM\\t1\\t<claim id=\"c-en-01-0001\" num=\"0001\"><claim-text>A method for deriving character features '\n",
      "25/93 - 'EP\\t0604687\\tB1\\t2000-04-19\\ten\\tPDFEP\\t1\\thttps://data.epo.org/publication-server/pdf-document?cc=EP&pn=0604687&ki=B1&pd=2000-04-19'\n",
      "\n",
      "Total Patents: 8\n",
      "26/93 - 'EP\\t0600143\\tB1\\t2000-01-19\\ten\\tTITLE\\t1\\tElectromagnetic radiation monitor\\n'\n",
      "27/93 - 'EP\\t0600143\\tB1\\t2000-01-19\\ten\\tDESCR\\t1\\t<p id=\"p0001\" num=\"0001\">This invention relates to radiation monitors, and more specifica'\n",
      "28/93 - 'EP\\t0600143\\tB1\\t2000-01-19\\ten\\tCLAIM\\t1\\t<claim id=\"c-en-01-0001\" num=\"0001\"><claim-text>An electromagnetic radiation monitor, whi'\n",
      "29/93 - 'EP\\t0600143\\tB1\\t2000-01-19\\ten\\tPDFEP\\t1\\thttps://data.epo.org/publication-server/pdf-document?cc=EP&pn=0600143&ki=B1&pd=2000-01-19'\n",
      "\n",
      "Total Patents: 9\n",
      "30/93 - 'EP\\t0610186\\tB1\\t2000-03-29\\ten\\tTITLE\\t1\\tA PROCESS FOR REGENERATING SPENT FLUIDIZED CATALYTIC CRACKING CATALYST\\n'\n",
      "31/93 - 'EP\\t0610186\\tB1\\t2000-03-29\\ten\\tDESCR\\t1\\t<p id=\"p0001\" num=\"0001\">This invention relates to a process for regenerating spent fluid'\n",
      "32/93 - 'EP\\t0610186\\tB1\\t2000-03-29\\ten\\tCLAIM\\t1\\t<claim id=\"c-en-01-0001\" num=\"0001\"><claim-text>A process for regenerating spent fluidize'\n",
      "33/93 - 'EP\\t0610186\\tB1\\t2000-03-29\\ten\\tPDFEP\\t1\\thttps://data.epo.org/publication-server/pdf-document?cc=EP&pn=0610186&ki=B1&pd=2000-03-29'\n",
      "\n",
      "Total Patents: 10\n",
      "34/93 - 'EP\\t0605418\\tB1\\t2000-07-05\\ten\\tTITLE\\t1\\tATMS/POS BASED ELECTRONIC MAIL SYSTEM\\n'\n",
      "35/93 - 'EP\\t0605418\\tB1\\t2000-07-05\\ten\\tDESCR\\t1\\t<heading id=\"h0001\"><u>Technical Field</u></heading><p id=\"p0001\" num=\"0001\">The present '\n",
      "36/93 - 'EP\\t0605418\\tB1\\t2000-07-05\\ten\\tCLAIM\\t1\\t<claim id=\"c-en-01-0001\" num=\"0001\"><claim-text>An electronic mail system (10) which is a'\n",
      "37/93 - 'EP\\t0605418\\tB1\\t2000-07-05\\ten\\tPDFEP\\t1\\thttps://data.epo.org/publication-server/pdf-document?cc=EP&pn=0605418&ki=B1&pd=2000-07-05'\n",
      "\n",
      "Total Patents: 11\n",
      "38/93 - 'EP\\t0608223\\tB1\\t2000-03-08\\ten\\tTITLE\\t1\\tBANDAGE\\n'\n",
      "39/93 - 'EP\\t0608223\\tB1\\t2000-03-08\\ten\\tDESCR\\t1\\t<p id=\"p0001\" num=\"0001\">This invention relates to bandages. In particular, it relates to'\n",
      "40/93 - 'EP\\t0608223\\tB1\\t2000-03-08\\ten\\tCLAIM\\t1\\t<claim id=\"c-en-01-0001\" num=\"0001\"><claim-text>A bandage comprising a flexibly stretchab'\n",
      "41/93 - 'EP\\t0608223\\tB1\\t2000-03-08\\ten\\tPDFEP\\t1\\thttps://data.epo.org/publication-server/pdf-document?cc=EP&pn=0608223&ki=B1&pd=2000-03-08'\n",
      "\n",
      "Total Patents: 12\n",
      "42/93 - 'EP\\t0632031\\tB1\\t2000-05-03\\ten\\tTITLE\\t1\\tCONDENSED BENZOXA RING COMPOUND, PRODUCTION THEREOF, AND PHARMACEUTICAL COMPOSITION CONTA'\n",
      "43/93 - 'EP\\t0632031\\tB1\\t2000-05-03\\ten\\tDESCR\\t1\\t<heading id=\"h0001\">TECHNICAL FIELD</heading><p id=\"p0001\" num=\"0001\">The present inventi'\n",
      "44/93 - 'EP\\t0632031\\tB1\\t2000-05-03\\ten\\tCLAIM\\t1\\t<claim id=\"c-en-01-0001\" num=\"0001\"><claim-text>A pharmaceutical composition comprising a'\n",
      "45/93 - 'EP\\t0632031\\tB1\\t2000-05-03\\ten\\tPDFEP\\t1\\thttps://data.epo.org/publication-server/pdf-document?cc=EP&pn=0632031&ki=B1&pd=2000-05-03'\n",
      "\n",
      "Total Patents: 13\n",
      "46/93 - 'EP\\t0612463\\tB2\\t2000-05-24\\ten\\tTITLE\\t1\\tDEVICE FOR FORMATION OF A FILM ON THE WALLS OF HOLES IN PRINTED CIRCUIT BOARDS\\n'\n",
      "47/93 - 'EP\\t0612463\\tB2\\t2000-05-24\\ten\\tDESCR\\t1\\t<p id=\"p0001\" num=\"0001\">The invention concerns a device for formation of a film on the w'\n",
      "48/93 - 'EP\\t0612463\\tB2\\t2000-05-24\\ten\\tCLAIM\\t1\\t<claim id=\"c-en-01-0001\" num=\"0001\"><claim-text>Device (10) for formation of a film (43) '\n",
      "49/93 - 'EP\\t0612463\\tB2\\t2000-05-24\\ten\\tPDFEP\\t1\\thttps://data.epo.org/publication-server/pdf-document?cc=EP&pn=0612463&ki=B2&pd=2000-05-24'\n",
      "\n",
      "Total Patents: 14\n",
      "50/93 - 'EP\\t0615422\\tB1\\t2000-01-19\\ten\\tTITLE\\t1\\tAPPARATUS FOR THE MEASUREMENT OF ATRIAL PRESSURE\\n'\n",
      "51/93 - 'EP\\t0615422\\tB1\\t2000-01-19\\ten\\tDESCR\\t1\\t<p id=\"p0001\" num=\"0001\">The present invention relates generally to the measurement of bl'\n",
      "52/93 - 'EP\\t0615422\\tB1\\t2000-01-19\\ten\\tCLAIM\\t1\\t<claim id=\"c-en-01-0001\" num=\"0001\"><claim-text>Apparatus for determining mean left atria'\n",
      "53/93 - 'EP\\t0615422\\tB1\\t2000-01-19\\ten\\tPDFEP\\t1\\thttps://data.epo.org/publication-server/pdf-document?cc=EP&pn=0615422&ki=B1&pd=2000-01-19'\n",
      "\n",
      "Total Patents: 15\n",
      "54/93 - 'EP\\t0619020\\tB1\\t2000-11-08\\ten\\tTITLE\\t1\\tDETERMINATION OF TRICYCLIC ANTIDEPRESSANT DRUGS IN THE PRESENCE OF INTERFERING SUBSTANCES'\n",
      "55/93 - 'EP\\t0619020\\tB1\\t2000-11-08\\ten\\tDESCR\\t1\\t<heading id=\"h0001\"><u>FIELD OF THE INVENTION</u></heading><p id=\"p0001\" num=\"0001\">The p'\n",
      "56/93 - 'EP\\t0619020\\tB1\\t2000-11-08\\ten\\tCLAIM\\t1\\t<claim id=\"c-en-01-0001\" num=\"0001\"><claim-text>An immunoassay method for determining the'\n",
      "57/93 - 'EP\\t0619020\\tB1\\t2000-11-08\\ten\\tCLAIM\\t2\\t<claim id=\"c-en-02-0001\" num=\"0001\"><claim-text>An immunoassay method for determining the'\n",
      "58/93 - 'EP\\t0619020\\tB1\\t2000-11-08\\ten\\tPDFEP\\t1\\thttps://data.epo.org/publication-server/pdf-document?cc=EP&pn=0619020&ki=B1&pd=2000-11-08'\n",
      "\n",
      "Total Patents: 16\n",
      "59/93 - 'EP\\t0612246\\tB1\\t2000-08-30\\ten\\tTITLE\\t1\\tPHARMACEUTICAL COMPOSITIONS OF GALLIUM COMPLEXES OF 3-HYDROXY-4-PYRONES\\n'\n",
      "60/93 - 'EP\\t0612246\\tB1\\t2000-08-30\\ten\\tDESCR\\t1\\t<heading id=\"h0001\"><b>BACKGROUND OF THE INVENTION</b></heading><heading id=\"h0002\">1. <u'\n",
      "61/93 - 'EP\\t0612246\\tB1\\t2000-08-30\\ten\\tCLAIM\\t1\\t<claim id=\"c-en-01-0001\" num=\"0001\"><claim-text>A pharmaceutical composition in a solid d'\n",
      "62/93 - 'EP\\t0612246\\tB1\\t2000-08-30\\ten\\tCLAIM\\t2\\t<claim id=\"c-en-02-0001\" num=\"0001\"><claim-text>Process for preparing a pharmaceutical co'\n",
      "63/93 - 'EP\\t0612246\\tB1\\t2000-08-30\\ten\\tPDFEP\\t1\\thttps://data.epo.org/publication-server/pdf-document?cc=EP&pn=0612246&ki=B1&pd=2000-08-30'\n",
      "\n",
      "Total Patents: 17\n",
      "64/93 - 'EP\\t0636181\\tB1\\t2000-11-29\\ten\\tTITLE\\t1\\tUSE OF A GENE ENCODING OXALATE OXIDASE FOR THE TRANSFORMATION OF PLANTS\\n'\n",
      "65/93 - 'EP\\t0636181\\tB1\\t2000-11-29\\ten\\tDESCR\\t1\\t<p id=\"p0001\" num=\"0001\">This invention relates to the genetic improvement of plants by t'\n",
      "66/93 - 'EP\\t0636181\\tB1\\t2000-11-29\\ten\\tCLAIM\\t1\\t<claim id=\"c-en-01-0001\" num=\"0001\"><claim-text>A method of imparting the ability to degr'\n",
      "67/93 - 'EP\\t0636181\\tB1\\t2000-11-29\\ten\\tPDFEP\\t1\\thttps://data.epo.org/publication-server/pdf-document?cc=EP&pn=0636181&ki=B1&pd=2000-11-29'\n",
      "\n",
      "Total Patents: 18\n",
      "68/93 - 'EP\\t0605422\\tB1\\t2000-03-08\\ten\\tTITLE\\t1\\tSAFETY SYRINGE ASSEMBLY WITH RADIALLY DEFORMABLE BODY\\n'\n",
      "69/93 - 'EP\\t0605422\\tB1\\t2000-03-08\\ten\\tDESCR\\t1\\t<heading id=\"h0001\">BACKGROUND OF THE INVENTION</heading><p id=\"p0001\" num=\"0001\">The nee'\n",
      "70/93 - 'EP\\t0605422\\tB1\\t2000-03-08\\ten\\tCLAIM\\t1\\t<claim id=\"c-en-01-0001\" num=\"0001\"><claim-text>Syringe assembly comprising:<claim-text>a'\n",
      "71/93 - 'EP\\t0605422\\tB1\\t2000-03-08\\ten\\tPDFEP\\t1\\thttps://data.epo.org/publication-server/pdf-document?cc=EP&pn=0605422&ki=B1&pd=2000-03-08'\n",
      "\n",
      "Total Patents: 19\n",
      "72/93 - 'EP\\t0614422\\tB1\\t2000-03-22\\ten\\tTITLE\\t1\\tDUAL PISTON STRUT\\n'\n",
      "73/93 - 'EP\\t0614422\\tB1\\t2000-03-22\\ten\\tDESCR\\t1\\t<p id=\"p0001\" num=\"0001\">This invention relates generally to suspension systems for land '\n",
      "74/93 - 'EP\\t0614422\\tB1\\t2000-03-22\\ten\\tCLAIM\\t1\\t<claim id=\"c-en-01-0001\" num=\"0001\"><claim-text>A compressible liquid spring suspension s'\n",
      "75/93 - 'EP\\t0614422\\tB1\\t2000-03-22\\ten\\tPDFEP\\t1\\thttps://data.epo.org/publication-server/pdf-document?cc=EP&pn=0614422&ki=B1&pd=2000-03-22'\n",
      "\n",
      "Total Patents: 20\n",
      "76/93 - 'EP\\t0674732\\tB1\\t2000-08-16\\ten\\tTITLE\\t1\\tCOMPOSITE BLOCK AND PROCESS FOR MANUFACTURING\\n'\n",
      "77/93 - 'EP\\t0674732\\tB1\\t2000-08-16\\ten\\tDESCR\\t1\\t<p id=\"p0001\" num=\"0001\">This invention relates to composite blocks such as paving blocks'\n",
      "78/93 - 'EP\\t0674732\\tB1\\t2000-08-16\\ten\\tCLAIM\\t1\\t<claim id=\"c-en-01-0001\" num=\"0001\"><claim-text>Composite blocks (75) comprising:<claim-t'\n",
      "79/93 - 'EP\\t0674732\\tB1\\t2000-08-16\\ten\\tPDFEP\\t1\\thttps://data.epo.org/publication-server/pdf-document?cc=EP&pn=0674732&ki=B1&pd=2000-08-16'\n",
      "\n",
      "Total Patents: 21\n",
      "80/93 - 'EP\\t0644972\\tB1\\t2000-08-16\\ten\\tTITLE\\t1\\tSYSTEM FOR FIXING JUXTAPOSED AND PARALLEL SLATS\\n'\n",
      "81/93 - 'EP\\t0644972\\tB1\\t2000-08-16\\ten\\tCLAIM\\t2\\t<claim id=\"c-en-01-0001\" num=\"0001\"><claim-text>Fixing system for assembling wooden board'\n",
      "\n",
      "Total Patents: 22\n",
      "82/93 - 'EP\\t0619773\\tB1\\t2000-03-15\\ten\\tTITLE\\t1\\tMETHOD AND DEVICE FOR MANUFACTURING CONSTRUCTION BLOCKS FROM A HYDRAULIC BINDER SUCH AS P'\n",
      "83/93 - 'EP\\t0619773\\tB1\\t2000-03-15\\ten\\tCLAIM\\t2\\t<claim id=\"c-en-01-0001\" num=\"0001\"><claim-text>A method for manufacturing blocks from a '\n",
      "\n",
      "Total Patents: 23\n",
      "84/93 - 'EP\\t0639149\\tB1\\t2000-03-29\\ten\\tTITLE\\t1\\tDISPENSING APPARATUS UTILIZING A PRESSURE GENERATOR\\n'\n",
      "85/93 - 'EP\\t0639149\\tB1\\t2000-03-29\\ten\\tDESCR\\t1\\t<p id=\"p0001\" num=\"0001\">The present invention relates to a pressure generator and, more '\n",
      "86/93 - 'EP\\t0639149\\tB1\\t2000-03-29\\ten\\tCLAIM\\t1\\t<claim id=\"c-en-01-0001\" num=\"0001\"><claim-text>Apparatus for maintaining a substantially'\n",
      "87/93 - 'EP\\t0639149\\tB1\\t2000-03-29\\ten\\tPDFEP\\t1\\thttps://data.epo.org/publication-server/pdf-document?cc=EP&pn=0639149&ki=B1&pd=2000-03-29'\n",
      "\n",
      "Total Patents: 24\n",
      "88/93 - 'EP\\t0600893\\tB1\\t2000-03-22\\ten\\tTITLE\\t1\\tGENE EXPRESSION IN BACILLI\\n'\n",
      "89/93 - 'EP\\t0600893\\tB1\\t2000-03-22\\ten\\tDESCR\\t1\\t<heading id=\"h0001\"><u>FIELD OF THE INVENTION</u></heading><p id=\"p0001\" num=\"0001\">The i'\n",
      "90/93 - 'EP\\t0600893\\tB1\\t2000-03-22\\ten\\tCLAIM\\t1\\t<claim id=\"c-en-01-0001\" num=\"0001\"><claim-text>A <u>Bacillus</u> for use in the hyperpro'\n",
      "91/93 - 'EP\\t0600893\\tB1\\t2000-03-22\\ten\\tPDFEP\\t1\\thttps://data.epo.org/publication-server/pdf-document?cc=EP&pn=0600893&ki=B1&pd=2000-03-22'\n",
      "\n",
      "Total Patents: 25\n",
      "92/93 - 'EP\\t0693879\\tB1\\t2000-07-19\\ten\\tTITLE\\t1\\tMICROWAVE TURNTABLE CONVECTION HEATER\\n'\n"
     ]
    }
   ],
   "source": [
    "patents: defaultdict = defaultdict(list)\n",
    "total = 0\n",
    "for i, x in enumerate(lines_en):\n",
    "    if '\\tTITLE\\t' in x:\n",
    "        print()\n",
    "        total += 1\n",
    "        print(f\"Total Patents: {total}\")\n",
    "    print(rf\"{i}/{len(lines_en)} - {repr(x[:125])}\")\n",
    "    patents[f\"patent_{total}\"].append(x)"
   ]
  },
  {
   "cell_type": "code",
   "execution_count": 19,
   "metadata": {
    "collapsed": false
   },
   "outputs": [
    {
     "name": "stdout",
     "output_type": "stream",
     "text": [
      "30\n",
      "4684\n",
      "904\n",
      "56\n"
     ]
    }
   ],
   "source": [
    "for x in patents['patent_1']:\n",
    "    print(num_tokens_from_string(x))"
   ]
  },
  {
   "cell_type": "code",
   "execution_count": 20,
   "metadata": {
    "collapsed": false
   },
   "outputs": [
    {
     "data": {
      "text/plain": [
       "list"
      ]
     },
     "execution_count": 20,
     "metadata": {},
     "output_type": "execute_result"
    }
   ],
   "source": [
    "type(patents['patent_1'])"
   ]
  },
  {
   "cell_type": "code",
   "execution_count": 21,
   "metadata": {
    "collapsed": false
   },
   "outputs": [],
   "source": [
    "condom = patents['patent_1']\n",
    "condom_dict = {}\n",
    "total_claims = 1\n",
    "for x in condom:\n",
    "    if '\\tTITLE\\t' in x:\n",
    "        condom_dict['title'] = x\n",
    "    elif '\\tDESCR\\t' in x:\n",
    "        condom_dict['descr'] = x\n",
    "    elif '\\tCLAIM\\t' in x:\n",
    "        condom_dict[f'claim_{total_claims}'] = x\n",
    "        total_claims += 1\n",
    "    elif '\\tPDFEP' in x:\n",
    "        condom_dict['pdfep'] = x\n",
    "    else:\n",
    "        raise ValueError(f\"Expected sections in [TITLE, DESCR, CLAIM, PDFEP]. Received: {x}\")"
   ]
  },
  {
   "cell_type": "code",
   "execution_count": 22,
   "metadata": {
    "collapsed": false
   },
   "outputs": [
    {
     "name": "stdout",
     "output_type": "stream",
     "text": [
      "title 30\n",
      "descr 4684\n",
      "claim_1 904\n",
      "pdfep 56\n"
     ]
    }
   ],
   "source": [
    "for k, v in condom_dict.items():\n",
    "    print(k, num_tokens_from_string(v))"
   ]
  },
  {
   "cell_type": "code",
   "execution_count": 32,
   "metadata": {
    "collapsed": false
   },
   "outputs": [],
   "source": [
    "from typing import Dict\n",
    "\n",
    "\n",
    "async def _extract_title(string: str) -> str:\n",
    "    \"\"\"Extract a title from `string` that is max 7 words long.\"\"\"\n",
    "    doctran = Doctran(\n",
    "        openai_api_key=os.getenv(\"OPENAI_API_KEY\"), openai_model=\"gpt-4o-mini\"\n",
    "    )\n",
    "    document = doctran.parse(content=string)\n",
    "    properties = ExtractProperty(\n",
    "        name=\"title\",\n",
    "        description=\"The title of the document (max 7 words).\",\n",
    "        type=\"string\",\n",
    "        required=True,\n",
    "    )\n",
    "    document = document.extract(properties=[properties]).execute() # await document.extract(properties=[properties]).execute()\n",
    "    return document.transformed_content\n",
    "\n",
    "async def divide_sections_if_too_large(\n",
    "    article_dict: Dict[str, str],\n",
    "    max_section_length: int = 512,\n",
    "    doc_type: str = \"patent\",\n",
    ") -> Dict[str, str]:\n",
    "    \"\"\"This function takes an existing dictionary containing the plan and sections\n",
    "    content (from above functions), checks if any section is too large (i.e., more\n",
    "    than 512 tokens), divides such sections into smaller sections, generates a new\n",
    "    title, and returns the updated dictionary\n",
    "    \"\"\"\n",
    "    if doc_type not in [\"patent\", \"wikipedia\", \"arxiv\"]:\n",
    "        raise ValueError(\n",
    "            f\"doc_type must be one of 'patent', 'wikipedia', or 'arxiv'. Got {doc_type}.\"\n",
    "        )\n",
    "    logger.info(\"Dividing sections if too large in plan and section content.\")\n",
    "    final_dict: Dict = {}\n",
    "    start_dict = copy(article_dict)\n",
    "\n",
    "    def is_reference_section(heading: str):\n",
    "        \"\"\"Returns True if heading is a reference section.\"\"\"\n",
    "        heading = heading.lower()\n",
    "        result = (\n",
    "            \"reference\" in heading\n",
    "            or \"further reading\" in heading\n",
    "            or \"see also\" in heading\n",
    "        )\n",
    "        return result\n",
    "\n",
    "    for heading, content in start_dict.items():\n",
    "        num_tokens = num_tokens_from_string(content)\n",
    "        # Each section must contain something, otherwise the embedding models fail\n",
    "        if num_tokens == 0:\n",
    "            final_dict[heading] = \" \"\n",
    "        # If the section is small enough, add it to the final dict\n",
    "        elif num_tokens <= max_section_length:\n",
    "            final_dict[heading] = content\n",
    "        # If section is too big, split into smaller sections, extract title, and add to final dict\n",
    "        else:\n",
    "            # Split\n",
    "            char_splitter = RecursiveCharacterTextSplitter(\n",
    "                chunk_size=max_section_length,\n",
    "                chunk_overlap=0,\n",
    "                # ' ' separator means sometimes sentences will be cut in two to ensure\n",
    "                # the chunk size is not exceeded\n",
    "                separators=[\"\\n\\n\", \"\\n\", \" \"],\n",
    "                length_function=num_tokens_from_string,\n",
    "            )\n",
    "            splits: List[str] = char_splitter.split_text(content)\n",
    "            # Keep heading the same but add numbers to sections e.g. 'h2 Reference' -> 'h2 Reference 1'\n",
    "            if doc_type == \"wikipedia\" and is_reference_section(heading):\n",
    "                for i, split in enumerate(splits, start=1):\n",
    "                    new_heading = f\"{heading} {i}\"\n",
    "                    final_dict[new_heading] = split\n",
    "                    logger.info(\n",
    "                        f\"Added '{new_heading}' split original heading '{heading}'\"\n",
    "                    )\n",
    "            # Create new titles for each split\n",
    "            for split in splits:\n",
    "                # Headings are of the form h1, h2, h3 etc. we split it into more of the same level\n",
    "                if doc_type == \"wikipedia\":\n",
    "                    heading_level = int(heading[1])\n",
    "                    title = await _extract_title(split)\n",
    "                    new_heading = f\"h{heading_level} {title}\"\n",
    "                # Heading levels aren't important for other doc_types\n",
    "                else:\n",
    "                    new_heading = await _extract_title(split)\n",
    "                final_dict[new_heading] = split\n",
    "                logger.info(f\"Added '{new_heading}' split original heading '{heading}'\")\n",
    "\n",
    "    n_keys_start = len(start_dict.keys())\n",
    "    n_keys_final = len(final_dict.keys())\n",
    "    logger.info(\n",
    "        f\"\\n\\tFinished dividing sections if too large in plan and section content.\"\n",
    "        f\"\\n\\tStarted with {n_keys_start} sections and got {n_keys_final} final sections.\"\n",
    "        f\"\\n\\tThat's a {n_keys_final / n_keys_start:.2f}x increase in sections\"\n",
    "    )\n",
    "    return final_dict"
   ]
  },
  {
   "cell_type": "code",
   "execution_count": 33,
   "metadata": {
    "collapsed": false
   },
   "outputs": [
    {
     "name": "stderr",
     "output_type": "stream",
     "text": [
      "\u001b[32m2025-01-02 11:09:16.767\u001b[0m | \u001b[1mINFO    \u001b[0m | \u001b[36m__main__\u001b[0m:\u001b[36mdivide_sections_if_too_large\u001b[0m:\u001b[36m33\u001b[0m - \u001b[1mDividing sections if too large in plan and section content.\u001b[0m\n",
      "\u001b[32m2025-01-02 11:09:17.888\u001b[0m | \u001b[1mINFO    \u001b[0m | \u001b[36m__main__\u001b[0m:\u001b[36mdivide_sections_if_too_large\u001b[0m:\u001b[36m86\u001b[0m - \u001b[1mAdded 'Background of the Invention' split original heading 'descr'\u001b[0m\n",
      "\u001b[32m2025-01-02 11:09:18.623\u001b[0m | \u001b[1mINFO    \u001b[0m | \u001b[36m__main__\u001b[0m:\u001b[36mdivide_sections_if_too_large\u001b[0m:\u001b[36m86\u001b[0m - \u001b[1mAdded 'Condoms and Cunnilingus Safety' split original heading 'descr'\u001b[0m\n",
      "\u001b[32m2025-01-02 11:09:19.421\u001b[0m | \u001b[1mINFO    \u001b[0m | \u001b[36m__main__\u001b[0m:\u001b[36mdivide_sections_if_too_large\u001b[0m:\u001b[36m86\u001b[0m - \u001b[1mAdded 'Condom Design for Oral Sex' split original heading 'descr'\u001b[0m\n",
      "\u001b[32m2025-01-02 11:09:20.172\u001b[0m | \u001b[1mINFO    \u001b[0m | \u001b[36m__main__\u001b[0m:\u001b[36mdivide_sections_if_too_large\u001b[0m:\u001b[36m86\u001b[0m - \u001b[1mAdded 'Condom for Oral-Genital Use' split original heading 'descr'\u001b[0m\n",
      "\u001b[32m2025-01-02 11:09:20.720\u001b[0m | \u001b[1mINFO    \u001b[0m | \u001b[36m__main__\u001b[0m:\u001b[36mdivide_sections_if_too_large\u001b[0m:\u001b[36m86\u001b[0m - \u001b[1mAdded 'Description of the Preferred Embodiments' split original heading 'descr'\u001b[0m\n",
      "\u001b[32m2025-01-02 11:09:21.241\u001b[0m | \u001b[1mINFO    \u001b[0m | \u001b[36m__main__\u001b[0m:\u001b[36mdivide_sections_if_too_large\u001b[0m:\u001b[36m86\u001b[0m - \u001b[1mAdded 'Condom Design and Features' split original heading 'descr'\u001b[0m\n",
      "\u001b[32m2025-01-02 11:09:21.871\u001b[0m | \u001b[1mINFO    \u001b[0m | \u001b[36m__main__\u001b[0m:\u001b[36mdivide_sections_if_too_large\u001b[0m:\u001b[36m86\u001b[0m - \u001b[1mAdded 'Condom Design for Oral Sex' split original heading 'descr'\u001b[0m\n",
      "\u001b[32m2025-01-02 11:09:22.630\u001b[0m | \u001b[1mINFO    \u001b[0m | \u001b[36m__main__\u001b[0m:\u001b[36mdivide_sections_if_too_large\u001b[0m:\u001b[36m86\u001b[0m - \u001b[1mAdded 'Condom Design for Cunnilingus' split original heading 'descr'\u001b[0m\n",
      "\u001b[32m2025-01-02 11:09:23.703\u001b[0m | \u001b[1mINFO    \u001b[0m | \u001b[36m__main__\u001b[0m:\u001b[36mdivide_sections_if_too_large\u001b[0m:\u001b[36m86\u001b[0m - \u001b[1mAdded 'Condom Design for Oral Use' split original heading 'descr'\u001b[0m\n",
      "\u001b[32m2025-01-02 11:09:24.282\u001b[0m | \u001b[1mINFO    \u001b[0m | \u001b[36m__main__\u001b[0m:\u001b[36mdivide_sections_if_too_large\u001b[0m:\u001b[36m86\u001b[0m - \u001b[1mAdded 'Condom Enhancements for Pleasure' split original heading 'descr'\u001b[0m\n",
      "\u001b[32m2025-01-02 11:09:25.087\u001b[0m | \u001b[1mINFO    \u001b[0m | \u001b[36m__main__\u001b[0m:\u001b[36mdivide_sections_if_too_large\u001b[0m:\u001b[36m86\u001b[0m - \u001b[1mAdded 'EP 0600858 B1 Condom Claims' split original heading 'claim_1'\u001b[0m\n",
      "\u001b[32m2025-01-02 11:09:25.708\u001b[0m | \u001b[1mINFO    \u001b[0m | \u001b[36m__main__\u001b[0m:\u001b[36mdivide_sections_if_too_large\u001b[0m:\u001b[36m86\u001b[0m - \u001b[1mAdded 'Condom Design Claims' split original heading 'claim_1'\u001b[0m\n",
      "\u001b[32m2025-01-02 11:09:25.710\u001b[0m | \u001b[1mINFO    \u001b[0m | \u001b[36m__main__\u001b[0m:\u001b[36mdivide_sections_if_too_large\u001b[0m:\u001b[36m90\u001b[0m - \u001b[1m\n",
      "\tFinished dividing sections if too large in plan and section content.\n",
      "\tStarted with 4 sections and got 13 final sections.\n",
      "\tThat's a 3.25x increase in sections\u001b[0m\n",
      "/tmp/ipykernel_871635/2921964435.py:1: RuntimeWarning: coroutine 'divide_sections_if_too_large' was never awaited\n",
      "  divided = await divide_sections_if_too_large(condom_dict)\n",
      "RuntimeWarning: Enable tracemalloc to get the object allocation traceback\n"
     ]
    }
   ],
   "source": [
    "divided = await divide_sections_if_too_large(condom_dict)"
   ]
  },
  {
   "cell_type": "code",
   "execution_count": 34,
   "metadata": {
    "collapsed": false
   },
   "outputs": [
    {
     "data": {
      "text/plain": [
       "dict_keys(['title', 'descr', 'claim_1', 'pdfep'])"
      ]
     },
     "execution_count": 34,
     "metadata": {},
     "output_type": "execute_result"
    }
   ],
   "source": [
    "condom_dict.keys()"
   ]
  },
  {
   "cell_type": "code",
   "execution_count": 35,
   "metadata": {
    "collapsed": false
   },
   "outputs": [
    {
     "data": {
      "text/plain": [
       "dict_keys(['title', 'Background of the Invention', 'Condoms and Cunnilingus Safety', 'Condom Design for Oral Sex', 'Condom for Oral-Genital Use', 'Description of the Preferred Embodiments', 'Condom Design and Features', 'Condom Design for Cunnilingus', 'Condom Design for Oral Use', 'Condom Enhancements for Pleasure', 'EP 0600858 B1 Condom Claims', 'Condom Design Claims', 'pdfep'])"
      ]
     },
     "execution_count": 35,
     "metadata": {},
     "output_type": "execute_result"
    }
   ],
   "source": [
    "divided.keys()"
   ]
  },
  {
   "cell_type": "code",
   "execution_count": 36,
   "metadata": {
    "collapsed": false
   },
   "outputs": [
    {
     "data": {
      "text/plain": [
       "'EP\\t0600858\\tB1\\t2000-05-17\\ten\\tDESCR\\t1\\t<heading id=\"h0001\"><u><b>Background of the Invention</b></u></heading><p id=\"p0001\" num=\"0001\">In recent years, the appearance of the HIV virus and the impending Acquired Immune Deficiency Syndrome epidemic have created an atmosphere of fear, caution and prudence in which sexually active adults must consider protecting themselves from infection by HIV virus as well as other venereal diseases. It is generally accepted as fact that the condom provides the best protection from venereal disease and HIV virus, aside from complete sexual abstinence. Unfortunately, such a positive barrier device is, at present, the only sure or certain way to prevent transmission of all STD\\'s, many of which cause great personal suffering and, in the cases of AIDS and syphilis, death.</p><p id=\"p0002\" num=\"0002\">Condoms are generally designed to be applied to the male member, although recent adaptations have been introduced which permit their use by women in the form a liner for the vaginal canal. Such a condom is disclosed in US-A-4805604. However, a significant form of sexual activity, namely oral-genital sexual contact, has not been well served by the forms of condoms known in the prior art. Although many individuals do not openly discuss or acknowledge participating in such practices, many surveys have shown that oral-genital sex is highly desired and engaged in frequently. Commercially available condoms are not designed to facilitate or accommodate oral-genital sex. Moreover, the oral cavity, together with the lips and surrounding skin, provides many opportunities for disease transmission. Brushing and flossing of teeth, biting the cheek or tongue accidentally, or STD lesions in the mouth and throat areas all create breaks in the skin and mucosa that provide direct vectors to the blood. The present invention is directed toward a condom-like prophylactic that protects the oral cavity during oral sexual activity, so that disease transmission is blocked. It also protects the genitals, thus avoiding transmission in either direction. This is a unique solution to a very serious problem.</p><p id=\"p0003\" num=\"0003\">The typical male condom device may be used to prevent skin-to-skin contact during fellatio, but it suffers from the same drawback for this use as for other uses; i.e., it<!-- EPO <DP n=\"2\"> --> requires male arousal prior to'"
      ]
     },
     "execution_count": 36,
     "metadata": {},
     "output_type": "execute_result"
    }
   ],
   "source": [
    "list(divided.values())[1]"
   ]
  },
  {
   "cell_type": "code",
   "execution_count": 39,
   "metadata": {
    "collapsed": false
   },
   "outputs": [
    {
     "data": {
      "text/plain": [
       "'EP\\t0600858\\tB1\\t2000-05-17\\ten\\tCLAIM\\t1\\t<claim id=\"c-en-01-0001\" num=\"0001\"><claim-text>A condom (31) suitable for oral-genital use, comprising an elongated tubular body (32) closed at one end (33) and open at the other end (34), said tubular body being of a flexible material impermeable to liquids; characterised in that the condom (31) is provided with first and second annular flanges (36, 37) positioned near the open end (34) of said tubular body (32) and spaced apart from each other; said annular flanges (36, 37) and tubular body being adapted to engage the lips of a user for oral-genital use and prevent skin-to-skin contact between the oral and genital surfaces.</claim-text></claim><claim id=\"c-en-01-0002\" num=\"0002\"><claim-text>A condom (31) according to claim 1, wherein said first and second flanges (36, 37) define therebetween an annular channel (38) adapted to receive the lips of the condom user to retain said condom (31) within the mouth.</claim-text></claim><claim id=\"c-en-01-0003\" num=\"0003\"><claim-text>A condom (31) according to claim 2, wherein said first and second flanges (36, 37) are disposed in generally parallel, spaced apart fashion, said flanges (36, 37) extending outwardly from said portion of said tubular portion (32) and flaring towards said distal, closed end (33).</claim-text></claim><claim id=\"c-en-01-0004\" num=\"0004\"><claim-text>A condom (31) according to claim 2 or claim 3, wherein said flanges (36, 37) are of a pliant, form-retaining, impervious material, and said tubular portion (32) is of a pliant, thin, elastic, impervious material, said flanges (36, 37) being joined to said tubular portion (32) in continuous, sealing engagement.</claim-text></claim><claim id=\"c-en-01-0005\" num=\"0005\"><claim-text>A condom (31) according to any of claims 2 to 4, wherein said tubular portion (32) and said flanges (36, 37) extend about a common'"
      ]
     },
     "execution_count": 39,
     "metadata": {},
     "output_type": "execute_result"
    }
   ],
   "source": [
    "divided['EP 0600858 B1 Condom Claims']"
   ]
  },
  {
   "cell_type": "code",
   "execution_count": 40,
   "metadata": {
    "collapsed": false
   },
   "outputs": [
    {
     "data": {
      "text/plain": [
       "['</heading>', '</heading>', '</heading>']"
      ]
     },
     "execution_count": 40,
     "metadata": {},
     "output_type": "execute_result"
    }
   ],
   "source": [
    "re.findall('</heading>', ''.join(condom))"
   ]
  },
  {
   "cell_type": "code",
   "execution_count": 41,
   "metadata": {
    "collapsed": false
   },
   "outputs": [
    {
     "name": "stdout",
     "output_type": "stream",
     "text": [
      "CONDOM FOR ORAL-GENITAL USE\n",
      "EP\t0600858\tB1\t2000-05-17\ten\tDESCR\t1\t<heading id=\"h0001\"><u><b>Background of the Invention</b></u>\n",
      "colour to enhance enjoyment during use.<!-- EPO <DP n=\"5\"> --></p><heading id=\"h0002\"><u>Brief Description of the Drawing</u>\n",
      "tion for cunnilingus.</li></ul><!-- EPO <DP n=\"7\"> --></p><heading id=\"h0003\"><u>Description of the Preferred Embodiments</u>\n",
      "P\t0600858\tB1\t2000-05-17\ten\tPDFEP\t1\thttps://data.epo.org/publication-server/pdf-document?cc=EP&pn=0600858&ki=B1&pd=2000-05-17\n",
      "\n"
     ]
    }
   ],
   "source": [
    "condom_str = ''.join(condom)\n",
    "for x in condom_str.split('</heading>'):\n",
    "    print(x[-125:])"
   ]
  },
  {
   "cell_type": "code",
   "execution_count": 42,
   "metadata": {
    "collapsed": false
   },
   "outputs": [
    {
     "data": {
      "text/plain": [
       "list"
      ]
     },
     "execution_count": 42,
     "metadata": {},
     "output_type": "execute_result"
    }
   ],
   "source": [
    "type(condom)"
   ]
  },
  {
   "cell_type": "code",
   "execution_count": 43,
   "metadata": {
    "collapsed": false
   },
   "outputs": [
    {
     "name": "stdout",
     "output_type": "stream",
     "text": [
      "title 30\n",
      "Background of the Invention 511\n",
      "Condoms and Cunnilingus Safety 512\n",
      "Condom Design for Oral Sex 512\n",
      "Condom for Oral-Genital Use 512\n",
      "Description of the Preferred Embodiments 512\n",
      "Condom Design and Features 512\n",
      "Condom Design for Cunnilingus 513\n",
      "Condom Design for Oral Use 511\n",
      "Condom Enhancements for Pleasure 77\n",
      "EP 0600858 B1 Condom Claims 512\n",
      "Condom Design Claims 392\n",
      "pdfep 56\n"
     ]
    }
   ],
   "source": [
    "for k, v in divided.items():\n",
    "    print(k, num_tokens_from_string(v))"
   ]
  },
  {
   "cell_type": "code",
   "execution_count": null,
   "metadata": {},
   "outputs": [],
   "source": []
  }
 ],
 "metadata": {
  "kernelspec": {
   "display_name": "doc_embedding",
   "language": "python",
   "name": "python3"
  },
  "language_info": {
   "codemirror_mode": {
    "name": "ipython",
    "version": 3
   },
   "file_extension": ".py",
   "mimetype": "text/x-python",
   "name": "python",
   "nbconvert_exporter": "python",
   "pygments_lexer": "ipython3",
   "version": "3.10.14"
  }
 },
 "nbformat": 4,
 "nbformat_minor": 0
}
